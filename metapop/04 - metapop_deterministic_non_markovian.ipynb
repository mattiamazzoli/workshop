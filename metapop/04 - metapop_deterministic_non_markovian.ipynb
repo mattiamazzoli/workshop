{
 "cells": [
  {
   "cell_type": "code",
   "execution_count": null,
   "id": "8f2909d4",
   "metadata": {},
   "outputs": [],
   "source": [
    "from matplotlib import *\n",
    "from __future__ import division\n",
    "%matplotlib inline\n",
    "import numpy as np\n",
    "from matplotlib import pyplot as plt\n",
    "from scipy.integrate import solve_ivp\n"
   ]
  },
  {
   "cell_type": "markdown",
   "id": "52c31954",
   "metadata": {},
   "source": [
    "## homogeneous population, deterministic model"
   ]
  },
  {
   "cell_type": "code",
   "execution_count": null,
   "id": "c77c034d",
   "metadata": {},
   "outputs": [],
   "source": [
    "# set the seeding city\n",
    "seed = 0\n",
    "nseeds = 10\n",
    "\n",
    "# Parameters\n",
    "num_patches = 5 # Number of patches\n",
    "beta = 0.5     # Infection rate\n",
    "gamma = 0.2      # Recovery rate\n",
    "population = 400  # Total population per patch\n",
    "\n",
    "#returning rate\n",
    "tau = 0.33 #8 hours, 1third of a day\n",
    "\n",
    "# Time span for simulation\n",
    "t_max = 200\n",
    "t_span = (0, t_max)\n",
    "t_eval = np.linspace(0, t_max-1, t_max*5)\n",
    "dt = t_eval[1]-t_eval[0]\n",
    "\n",
    "subpopulation_R0 = beta/gamma\n",
    "attack_ratio = population*(1 - np.exp(-subpopulation_R0))\n",
    "print(subpopulation_R0 , attack_ratio)"
   ]
  },
  {
   "cell_type": "code",
   "execution_count": null,
   "id": "a60a1555",
   "metadata": {},
   "outputs": [],
   "source": [
    "#create random matrix of transitions \n",
    "np.random.seed(9001)\n",
    "#let movements between i!=j must be lower than between i=j\n",
    "OD_matrix = np.random.random_integers(low=0, high=0.1 * population / num_patches, size=(num_patches,num_patches))\n",
    "#set diagonal to zero\n",
    "n = OD_matrix.shape[0]\n",
    "OD_matrix[range(n), range(n)] = 0 \n",
    "#flows between i and j must be symmetric, those who go also come back\n",
    "OD_matrix = (OD_matrix+OD_matrix.T)\n",
    "#count how many do not move in each population\n",
    "staying = population - OD_matrix.sum(axis=1)\n",
    "#set movements in the diagonal i = j\n",
    "OD_matrix[range(n), range(n)] = staying\n",
    "#normalize rows to sum to 1, these are rates of transition per population\n",
    "row_sums = OD_matrix.sum(axis=1, keepdims=True)\n",
    "# Transition matrix for mobility between patches (Markovian)\n",
    "P = OD_matrix / row_sums"
   ]
  },
  {
   "cell_type": "code",
   "execution_count": null,
   "id": "64d109a7",
   "metadata": {},
   "outputs": [],
   "source": [
    "staying"
   ]
  },
  {
   "cell_type": "code",
   "execution_count": null,
   "id": "8918b501",
   "metadata": {},
   "outputs": [],
   "source": [
    "OD_matrix"
   ]
  },
  {
   "cell_type": "code",
   "execution_count": null,
   "id": "5de11532",
   "metadata": {},
   "outputs": [],
   "source": [
    "OD_matrix.sum(axis=1, keepdims=True)"
   ]
  },
  {
   "cell_type": "code",
   "execution_count": null,
   "id": "97e1ac25",
   "metadata": {
    "scrolled": true
   },
   "outputs": [],
   "source": [
    "P"
   ]
  },
  {
   "cell_type": "markdown",
   "id": "e209524b",
   "metadata": {},
   "source": [
    "### write the force of infection  \n",
    "\n",
    "$\\Large \\lambda_i = \\frac{\\lambda_{ii}}{1 + \\sigma_i/\\tau} + \\sum_j \\frac{\\lambda_{ij}\\sigma_{ij}/\\tau}{1 + \\sigma_i/\\tau} $\n",
    "\n",
    "where $\\lambda_{ii}$ is the force of infection felt by i without moving and $\\lambda_{ij}$ is the force of infection on susceptibles of i when they travel to infected places j"
   ]
  },
  {
   "cell_type": "markdown",
   "id": "847fdb68",
   "metadata": {},
   "source": [
    "$\\Large \\lambda_{ii} = \\frac{\\beta}{N_i^*} (\\frac{I_{ii}}{1+\\sigma_i / \\tau} + \\sum_j \\frac{I_{j} \\sigma_{ji} / \\tau}{1+\\sigma_j / \\tau} )$  \n",
    "the force $\\lambda_{ii}$ contains a term of force of infection from all js to i, so it encodes the force of infection felt by i"
   ]
  },
  {
   "cell_type": "markdown",
   "id": "ab8b06b4",
   "metadata": {},
   "source": [
    "$\\Large\\lambda_{ij} = \\frac{\\beta}{N_j^*} (\\frac{I_{j}}{1+\\sigma_j/\\tau} + \\sum_l \\frac{I_{l}\\sigma_{lj} / \\tau}{1+\\sigma_l/\\tau} ) $  \n",
    "the force $\\lambda_{ij}$ is the force of infection i of all js, hence depends on the infected of j and the infected of all ls neighbors of j "
   ]
  },
  {
   "cell_type": "markdown",
   "id": "407ef522",
   "metadata": {},
   "source": [
    "### write the effective population X for compartment m at equilibrium"
   ]
  },
  {
   "cell_type": "markdown",
   "id": "3078b2c8",
   "metadata": {},
   "source": [
    "$\\Large X_{ii}^m = \\frac{X_i^m}{1+\\sigma_i/\\tau}   \\\\  $\n",
    "$\\Large X_{ij}^m = \\frac{X_i^m}{1+\\sigma_i/\\tau} \\sigma_{ij}/\\tau  $"
   ]
  },
  {
   "cell_type": "markdown",
   "id": "eb5be94a",
   "metadata": {},
   "source": [
    "### write the effective population $N_i^*$ at equilibrium"
   ]
  },
  {
   "cell_type": "markdown",
   "id": "95baf28d",
   "metadata": {},
   "source": [
    "$\\Large N_{i}^* = \\frac{N_i}{1+\\sigma_i/\\tau} + \\Sigma_j \\frac{N_j}{1 + \\sigma_{j}/\\tau}  \\sigma_{ji}/\\tau  $"
   ]
  },
  {
   "cell_type": "code",
   "execution_count": null,
   "id": "13256887",
   "metadata": {},
   "outputs": [],
   "source": [
    "# Force of infection function\n",
    "def force_of_infection(beta, I, P, N):\n",
    "    sigma_i = P.sum(axis=1) # - P.diagonal()\n",
    "    Ni_star = N/(1+sigma_i/tau) + (((N/(1+sigma_i/tau)).dot(P)/tau))\n",
    "    lambda_ii = beta/Ni_star * ((I/(1+sigma_i/tau))/(1+sigma_i/tau) + ((I.dot(P)/tau)/(1+sigma_i/tau)))\n",
    "    lambda_ij = beta/Ni_star * ((I/(1+sigma_i/tau)) + ((I.dot(P.T)/tau)/(1+sigma_i/tau)))\n",
    "    lambda_i = lambda_ii/(1+sigma_i/tau) + ((lambda_ij.dot(P.T)/tau)/(1+sigma_i/tau))\n",
    "\n",
    "    return lambda_i"
   ]
  },
  {
   "cell_type": "code",
   "execution_count": null,
   "id": "db26ea6b",
   "metadata": {},
   "outputs": [],
   "source": [
    "\n",
    "# Initial conditions (S, I, R for each patch)\n",
    "S0 = np.linspace(population,population, num_patches) # initial susceptible populations\n",
    "S0[seed] -= nseeds   # remove seeds from seed susceptible populations\n",
    "\n",
    "I0 = np.zeros(num_patches) # initial infected populations\n",
    "I0[seed] = nseeds          # seeds\n",
    "R0 = np.zeros(num_patches) # initial recovered populations\n",
    "\n",
    "\n",
    "# Model system of ODEs\n",
    "def sir_model(t, y, beta, gamma, P, population):\n",
    "    # Reshape the state vector y into S, I, R for each patch\n",
    "    S = y[:num_patches] #top rows\n",
    "    I = y[num_patches:2*num_patches] #middle rows\n",
    "    R = y[2*num_patches:] #bottom rows\n",
    "    \n",
    "    # Calculate the force of infection for each patch\n",
    "    N = np.array([population] * num_patches)\n",
    "    lambda_i = force_of_infection(beta, I, P, N)\n",
    "    \n",
    "    # Compute the derivatives for each patch\n",
    "    dSdt = - S * lambda_i \n",
    "    dIdt = S * lambda_i - gamma * I \n",
    "    dRdt = gamma * I \n",
    "    \n",
    "    # Concatenate the derivatives into a single vector\n",
    "    return np.concatenate([dSdt, dIdt, dRdt])\n",
    "\n",
    "# Initial state vector\n",
    "y0 = np.concatenate([S0, I0, R0]) #top rows = S, second rows = I, bottom rows = R\n",
    "\n",
    "# Solve the system of ODEs\n",
    "solution = solve_ivp(sir_model, t_span, y0, args=(beta, gamma, P, population), t_eval=t_eval)\n",
    "\n",
    "# Extract results\n",
    "S, I, R = solution.y[:num_patches], solution.y[num_patches:2*num_patches], solution.y[2*num_patches:]\n",
    "\n"
   ]
  },
  {
   "cell_type": "code",
   "execution_count": null,
   "id": "0b76d6a3",
   "metadata": {},
   "outputs": [],
   "source": [
    "# Plot the results\n",
    "plt.figure(figsize=(10, 6))\n",
    "\n",
    "# Plot Susceptible, Infected, and Recovered over time\n",
    "for i in range(num_patches):\n",
    "    plt.plot(solution.t, I[i], label=f'I{ i+1 } patch')\n",
    "    plt.plot(solution.t, R[i], label=f'R{ i+1 } patch')\n",
    "\n",
    "    #plt.plot(solution.t, S[i]+I[i]+R[i], label=f'R{ i+1 } (Recovered)')\n",
    "\n",
    "plt.xlabel('Time')\n",
    "plt.axhline(attack_ratio,ls='--', color='grey')\n",
    "plt.ylim(0,population)\n",
    "plt.ylabel('Active infected')\n",
    "plt.legend(frameon=False)\n",
    "plt.title('Metapopulation SIR Model with Markovian Mobility')\n",
    "plt.grid(True)\n",
    "plt.show()"
   ]
  },
  {
   "cell_type": "code",
   "execution_count": null,
   "id": "3b189ca6",
   "metadata": {},
   "outputs": [],
   "source": [
    "final_attack_ratio = R[:,-1]/population\n",
    "print(final_attack_ratio*100, population)"
   ]
  },
  {
   "cell_type": "markdown",
   "id": "fcd65577",
   "metadata": {},
   "source": [
    "## heterogeneous populations, deterministic model"
   ]
  },
  {
   "cell_type": "code",
   "execution_count": null,
   "id": "2d8655cf",
   "metadata": {},
   "outputs": [],
   "source": [
    "population = np.array([400,100,400,1000,400])  # Total population per patch\n",
    "S0 = np.array(population)\n",
    "\n",
    "#create random matrix of transitions \n",
    "np.random.seed(9001)\n",
    "#let movements between i!=j must be lower than between i=j\n",
    "OD_matrix = np.random.random_integers(low=0, high=0.5 * min(population) / num_patches, size=(num_patches,num_patches))\n",
    "#set diagonal to zero\n",
    "n = OD_matrix.shape[0]\n",
    "OD_matrix[range(n), range(n)] = 0 \n",
    "#flows between i and j must be symmetric, those who go also come back\n",
    "OD_matrix = (OD_matrix+OD_matrix.T)\n",
    "#count how many do not move in each population\n",
    "staying = population - OD_matrix.sum(axis=1)\n",
    "#set movements in the diagonal i = j\n",
    "OD_matrix[range(n), range(n)] = staying\n",
    "#normalize rows to sum to 1, these are rates of transition per population\n",
    "row_sums = OD_matrix.sum(axis=1, keepdims=True)\n",
    "# Transition matrix for mobility between patches (Markovian)\n",
    "P = OD_matrix / row_sums"
   ]
  },
  {
   "cell_type": "code",
   "execution_count": null,
   "id": "e730d18f",
   "metadata": {},
   "outputs": [],
   "source": [
    "staying"
   ]
  },
  {
   "cell_type": "code",
   "execution_count": null,
   "id": "e0ddb696",
   "metadata": {},
   "outputs": [],
   "source": [
    "OD_matrix"
   ]
  },
  {
   "cell_type": "code",
   "execution_count": null,
   "id": "7968cea7",
   "metadata": {},
   "outputs": [],
   "source": [
    "OD_matrix.sum(axis=1, keepdims=True)"
   ]
  },
  {
   "cell_type": "code",
   "execution_count": null,
   "id": "48600c3f",
   "metadata": {},
   "outputs": [],
   "source": [
    "P"
   ]
  },
  {
   "cell_type": "code",
   "execution_count": null,
   "id": "1cd6d1ca",
   "metadata": {},
   "outputs": [],
   "source": [
    "\n",
    "subpopulation_R0 = beta/gamma\n",
    "attack_ratio = population*(1 - np.exp(-subpopulation_R0))\n",
    "print(subpopulation_R0 , attack_ratio)\n",
    "\n",
    "\n",
    "# Initial conditions (S, I, R for each patch)\n",
    "S0 = np.array(population) # initial susceptible populations\n",
    "S0[seed] -= nseeds   # remove seeds from seed susceptible populations\n",
    "\n",
    "I0 = np.zeros(num_patches) # initial infected populations\n",
    "I0[seed] = nseeds          # seeds\n",
    "R0 = np.zeros(num_patches) # initial recovered populations\n",
    "\n",
    "\n",
    "# Model system of ODEs\n",
    "def sir_model(t, y, beta, gamma, P, population):\n",
    "    # Reshape the state vector y into S, I, R for each patch\n",
    "    S = y[:num_patches] #top rows\n",
    "    I = y[num_patches:2*num_patches] #middle rows\n",
    "    R = y[2*num_patches:] #bottom rows\n",
    "    \n",
    "    # Calculate the force of infection for each patch\n",
    "    lambda_i = force_of_infection(beta, I, P, population)\n",
    "    \n",
    "    # Compute the derivatives for each patch\n",
    "    dSdt = - S * lambda_i \n",
    "    dIdt = S * lambda_i - gamma  * I \n",
    "    dRdt = gamma * I \n",
    "    \n",
    "    # Concatenate the derivatives into a single vector\n",
    "    return np.concatenate([dSdt, dIdt, dRdt])\n",
    "\n",
    "# Initial state vector\n",
    "y0 = np.concatenate([S0, I0, R0]) #top rows = S, second rows = I, bottom rows = R\n",
    "\n",
    "# Solve the system of ODEs\n",
    "solution = solve_ivp(sir_model, t_span, y0, args=(beta, gamma, P, population), t_eval=t_eval)\n",
    "\n",
    "# Extract results\n",
    "S, I, R = solution.y[:num_patches], solution.y[num_patches:2*num_patches], solution.y[2*num_patches:]\n",
    "\n"
   ]
  },
  {
   "cell_type": "code",
   "execution_count": null,
   "id": "bed4772b",
   "metadata": {},
   "outputs": [],
   "source": [
    "# Plot the results\n",
    "plt.figure(figsize=(10, 6))\n",
    "\n",
    "# Plot Susceptible, Infected, and Recovered over time\n",
    "for i in range(num_patches):\n",
    "    plt.plot(solution.t, I[i], label=f'I{ i+1 } patch')\n",
    "    #plt.plot(solution.t, S[i]+I[i]+R[i], label=f'R{ i+1 } (Recovered)')\n",
    "\n",
    "plt.xlabel('Time')\n",
    "plt.ylabel('Active infected')\n",
    "plt.legend(frameon=False)\n",
    "plt.title('Metapopulation SIR Model with Markovian Mobility')\n",
    "plt.grid(True)\n",
    "plt.show()"
   ]
  },
  {
   "cell_type": "code",
   "execution_count": null,
   "id": "12975c29",
   "metadata": {},
   "outputs": [],
   "source": [
    "# Plot the results\n",
    "plt.figure(figsize=(10, 6))\n",
    "\n",
    "# Plot Susceptible, Infected, and Recovered over time\n",
    "for i in range(num_patches):\n",
    "    plt.plot(solution.t, I[i], label=f'I{ i+1 } patch')\n",
    "    plt.plot(solution.t, R[i], label=f'R{ i+1 } patch')\n",
    "    plt.axhline(attack_ratio[i],ls='--', color='grey')\n",
    "\n",
    "    #plt.plot(solution.t, S[i]+I[i]+R[i], label=f'R{ i+1 } (Recovered)')\n",
    "\n",
    "plt.xlabel('Time')\n",
    "\n",
    "plt.ylim(0,max(population))\n",
    "plt.ylabel('Active infected')\n",
    "plt.legend(frameon=False)\n",
    "plt.title('Metapopulation SIR Model with Markovian Mobility')\n",
    "plt.grid(True)\n",
    "plt.show()"
   ]
  },
  {
   "cell_type": "code",
   "execution_count": null,
   "id": "055e317f",
   "metadata": {},
   "outputs": [],
   "source": [
    "final_attack_ratio = R[:,-1]/population\n",
    "print(final_attack_ratio*100, population)"
   ]
  },
  {
   "cell_type": "markdown",
   "id": "549f4058",
   "metadata": {},
   "source": [
    "### apply travel bans"
   ]
  },
  {
   "cell_type": "code",
   "execution_count": null,
   "id": "90bdfca1",
   "metadata": {},
   "outputs": [],
   "source": [
    "\n",
    "ban = 0.99 #value from 0 to 1\n",
    "\n",
    "OD_matrix_ban = np.zeros((num_patches, num_patches))\n",
    "\n",
    "for i in range(n):\n",
    "    for j in range(n):\n",
    "        if i!=j:\n",
    "            OD_matrix_ban[i,j] = (1-ban)*OD_matrix[i,j]\n",
    "\n",
    "#count how many do not move in each population\n",
    "staying = population - OD_matrix_ban.sum(axis=1)\n",
    "#set movements in the diagonal i = j\n",
    "OD_matrix_ban[range(n), range(n)] = staying\n",
    "            \n",
    "#normalize rows to sum to 1, these are rates of transition per population\n",
    "row_sums = OD_matrix_ban.sum(axis=1, keepdims=True)\n",
    "# Transition matrix for mobility between patches (Markovian)\n",
    "P = OD_matrix_ban / row_sums"
   ]
  },
  {
   "cell_type": "code",
   "execution_count": null,
   "id": "2d5d5f25",
   "metadata": {},
   "outputs": [],
   "source": [
    "P"
   ]
  },
  {
   "cell_type": "code",
   "execution_count": null,
   "id": "8a2bfd5a",
   "metadata": {},
   "outputs": [],
   "source": [
    "\n",
    "subpopulation_R0 = beta/gamma\n",
    "attack_ratio = population*(1 - np.exp(-subpopulation_R0))\n",
    "print(subpopulation_R0 , attack_ratio)\n",
    "\n",
    "# Initial conditions (S, I, R for each patch)\n",
    "S0 = np.array(population) # initial susceptible populations\n",
    "S0[seed] -= nseeds   # remove seeds from seed susceptible populations\n",
    "\n",
    "I0 = np.zeros(num_patches) # initial infected populations\n",
    "I0[seed] = nseeds          # seeds\n",
    "R0 = np.zeros(num_patches) # initial recovered populations\n",
    "\n",
    "# Model system of ODEs\n",
    "def sir_model(t, y, beta, gamma, P, population):\n",
    "    # Reshape the state vector y into S, I, R for each patch\n",
    "    S = y[:num_patches] #top rows\n",
    "    I = y[num_patches:2*num_patches] #middle rows\n",
    "    R = y[2*num_patches:] #bottom rows\n",
    "    \n",
    "    # Calculate the force of infection for each patch\n",
    "    lambda_i = force_of_infection(beta, I, P, population)\n",
    "    \n",
    "    # Compute the derivatives for each patch\n",
    "    dSdt = - S * lambda_i + np.dot(S, P) - S * np.sum(P, axis=1)\n",
    "    dIdt = S * lambda_i - gamma  * I + np.dot(I, P) - I * np.sum(P, axis=1)\n",
    "    dRdt = gamma * I + np.dot(R, P) - R * np.sum(P, axis=1)\n",
    "    \n",
    "    # Concatenate the derivatives into a single vector\n",
    "    return np.concatenate([dSdt, dIdt, dRdt])\n",
    "\n",
    "# Initial state vector\n",
    "y0 = np.concatenate([S0, I0, R0]) #top rows = S, second rows = I, bottom rows = R\n",
    "\n",
    "# Solve the system of ODEs\n",
    "solution = solve_ivp(sir_model, t_span, y0, args=(beta, gamma, P, population), t_eval=t_eval)\n",
    "\n",
    "# Extract results\n",
    "Sc, Ic, Rc = solution.y[:num_patches], solution.y[num_patches:2*num_patches], solution.y[2*num_patches:]\n",
    "\n"
   ]
  },
  {
   "cell_type": "code",
   "execution_count": null,
   "id": "70756ec3",
   "metadata": {},
   "outputs": [],
   "source": [
    "# Plot the results\n",
    "plt.figure(figsize=(10, 6))\n",
    "\n",
    "# Plot Susceptible, Infected, and Recovered over time\n",
    "for i in range(num_patches):\n",
    "    plt.plot(solution.t, I[i], label=f'I{ i+1 } patch')\n",
    "    plt.plot(solution.t, Ic[i], label=f'I{ i+1 } patch', ls='--')\n",
    "\n",
    "    #plt.plot(solution.t, S[i]+I[i]+R[i], label=f'R{ i+1 } (Recovered)')\n",
    "\n",
    "plt.xlabel('Time')\n",
    "plt.ylabel('Active infected')\n",
    "plt.legend(frameon=False)\n",
    "plt.title('Metapopulation SIR Model with Markovian Mobility')\n",
    "plt.grid(True)\n",
    "plt.show()"
   ]
  },
  {
   "cell_type": "markdown",
   "id": "2fe16318",
   "metadata": {},
   "source": [
    "tempo guadagnato grazie alle restrizioni"
   ]
  },
  {
   "cell_type": "code",
   "execution_count": null,
   "id": "218276a3",
   "metadata": {},
   "outputs": [],
   "source": [
    "for i in range(num_patches):\n",
    "    print('Population #'+str(i), round(solution.t[np.argmax(Ic[i])]-solution.t[np.argmax(I[i])]), 'days')"
   ]
  },
  {
   "cell_type": "markdown",
   "id": "07078a34",
   "metadata": {},
   "source": [
    "#### verify what happens with subpop R0 < 1  \n",
    "#### verify delay of epidemics when banning 80 - 99% of trips"
   ]
  },
  {
   "cell_type": "code",
   "execution_count": null,
   "id": "8e5453de",
   "metadata": {},
   "outputs": [],
   "source": []
  }
 ],
 "metadata": {
  "kernelspec": {
   "display_name": "Python 3 (ipykernel)",
   "language": "python",
   "name": "python3"
  },
  "language_info": {
   "codemirror_mode": {
    "name": "ipython",
    "version": 3
   },
   "file_extension": ".py",
   "mimetype": "text/x-python",
   "name": "python",
   "nbconvert_exporter": "python",
   "pygments_lexer": "ipython3",
   "version": "3.12.11"
  }
 },
 "nbformat": 4,
 "nbformat_minor": 5
}
