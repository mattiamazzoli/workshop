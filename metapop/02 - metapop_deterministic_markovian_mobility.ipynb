{
 "cells": [
  {
   "cell_type": "code",
   "execution_count": null,
   "id": "8f2909d4",
   "metadata": {},
   "outputs": [],
   "source": [
    "from matplotlib import *\n",
    "from __future__ import division\n",
    "%matplotlib inline\n",
    "import numpy as np\n",
    "from matplotlib import pyplot as plt\n",
    "from scipy.integrate import solve_ivp\n",
    "import pandas as pd\n",
    "import geopandas as gpd\n",
    "import matplotlib.pyplot as plt\n",
    "import matplotlib.cm as cm"
   ]
  },
  {
   "cell_type": "markdown",
   "id": "52c31954",
   "metadata": {},
   "source": [
    "## homogeneous population, deterministic model"
   ]
  },
  {
   "cell_type": "code",
   "execution_count": null,
   "id": "c77c034d",
   "metadata": {},
   "outputs": [],
   "source": [
    "# set the seeding city\n",
    "seed = 0\n",
    "nseeds = 10\n",
    "\n",
    "# Parameters\n",
    "num_patches = 5 # Number of patches\n",
    "beta = 0.3     # Infection rate\n",
    "gamma = 0.2      # Recovery rate\n",
    "population = 400  # Total population per patch\n",
    "\n",
    "# Time span for simulation\n",
    "t_max = 200\n",
    "t_span = (0, t_max)\n",
    "t_eval = np.linspace(0, t_max-1, t_max*5)\n",
    "dt = t_eval[1]-t_eval[0]\n",
    "\n",
    "subpopulation_R0 = beta/gamma\n",
    "\n",
    "#upper bound of final attack ratio, asymptotic state assuming R(inf) = N and initial S = N\n",
    "attack_ratio = population*(1 - np.exp(-subpopulation_R0))\n",
    "print(subpopulation_R0 , attack_ratio)"
   ]
  },
  {
   "cell_type": "markdown",
   "id": "c06999c9",
   "metadata": {},
   "source": [
    "### create the matrix of transitions  $\\large \\sigma_{ij}$"
   ]
  },
  {
   "cell_type": "code",
   "execution_count": null,
   "id": "a60a1555",
   "metadata": {},
   "outputs": [],
   "source": [
    "#create random matrix of transitions \n",
    "np.random.seed(9001)\n",
    "#let movements between i!=j must be lower than between i=j\n",
    "OD_matrix = np.random.random_integers(low=0, high=0.1 * population / num_patches, size=(num_patches,num_patches))\n",
    "#set diagonal to zero\n",
    "n = OD_matrix.shape[0]\n",
    "OD_matrix[range(n), range(n)] = 0 \n",
    "#flows between i and j must be symmetric, those who go also come back\n",
    "OD_matrix = (OD_matrix+OD_matrix.T)\n",
    "#count how many do not move in each population\n",
    "staying = population - OD_matrix.sum(axis=1)\n",
    "#set movements in the diagonal i = j\n",
    "OD_matrix[range(n), range(n)] = staying\n",
    "#normalize rows to sum to 1, these are rates of transition per population\n",
    "row_sums = OD_matrix.sum(axis=1, keepdims=True)\n",
    "# Transition matrix for mobility between patches (Markovian)\n",
    "P = OD_matrix / row_sums"
   ]
  },
  {
   "cell_type": "code",
   "execution_count": null,
   "id": "64d109a7",
   "metadata": {},
   "outputs": [],
   "source": [
    "staying"
   ]
  },
  {
   "cell_type": "code",
   "execution_count": null,
   "id": "8918b501",
   "metadata": {},
   "outputs": [],
   "source": [
    "OD_matrix"
   ]
  },
  {
   "cell_type": "code",
   "execution_count": null,
   "id": "5de11532",
   "metadata": {},
   "outputs": [],
   "source": [
    "OD_matrix.sum(axis=1, keepdims=True)"
   ]
  },
  {
   "cell_type": "code",
   "execution_count": null,
   "id": "97e1ac25",
   "metadata": {},
   "outputs": [],
   "source": [
    "P #the sigma_ij matrix of travel rates"
   ]
  },
  {
   "cell_type": "markdown",
   "id": "e209524b",
   "metadata": {},
   "source": [
    "### write the force of infection  \n",
    "write the force of infection for the reaction process within the patch\n",
    "\n",
    "$\\Large \\lambda_i = \\beta \\ {\\frac{I_i}{N_i} }$"
   ]
  },
  {
   "cell_type": "code",
   "execution_count": null,
   "id": "13256887",
   "metadata": {},
   "outputs": [],
   "source": [
    "# Force of infection function\n",
    "def force_of_infection(beta, I, P, N):\n",
    "    return beta * I / N "
   ]
  },
  {
   "cell_type": "markdown",
   "id": "44550441",
   "metadata": {},
   "source": [
    "### write the ODE system"
   ]
  },
  {
   "cell_type": "markdown",
   "id": "0aa0635b",
   "metadata": {},
   "source": [
    "$\\Large \\begin{cases}\n",
    "    \\frac{dS_i}{dt} = -\\beta \\frac{S_iI_i}{N_i} + \\langle \\Omega_i(S) \\rangle \\\\ \n",
    "    \\frac{dI_i}{dt} = \\beta \\frac{S_iI_i}{N_i} - \\mu I_i + \\langle \\Omega_i(I) \\rangle \\\\\n",
    "\\frac{dR_i}{dt} =  \\mu I_i  + \\langle \\Omega_i(R) \\rangle \n",
    "\\end{cases}$"
   ]
  },
  {
   "cell_type": "code",
   "execution_count": null,
   "id": "db26ea6b",
   "metadata": {},
   "outputs": [],
   "source": [
    "\n",
    "# Initial conditions (S, I, R for each patch)\n",
    "S0 = np.linspace(population,population, num_patches) # initial susceptible populations\n",
    "S0[seed] -= nseeds   # remove seeds from seed susceptible populations\n",
    "\n",
    "I0 = np.zeros(num_patches) # initial infected populations\n",
    "I0[seed] = nseeds          # seeds\n",
    "R0 = np.zeros(num_patches) # initial recovered populations\n",
    "\n",
    "\n",
    "# Model system of ODEs\n",
    "def sir_model(t, y, beta, gamma, P, population):\n",
    "    # Reshape the state vector y into S, I, R for each patch\n",
    "    S = y[:num_patches] #top rows\n",
    "    I = y[num_patches:2*num_patches] #middle rows\n",
    "    R = y[2*num_patches:] #bottom rows\n",
    "    \n",
    "    # Calculate the force of infection for each patch\n",
    "    N = np.array([population] * num_patches)\n",
    "    lambda_i = force_of_infection(beta, I, P, N)\n",
    "    \n",
    "    # Compute the derivatives for each patch\n",
    "    dSdt = - S * lambda_i + np.dot(S, P) - S * np.sum(P, axis=1)\n",
    "    dIdt = S * lambda_i - gamma * I  + np.dot(I, P) - I * np.sum(P, axis=1)\n",
    "    dRdt = gamma * I + np.dot(R, P) - R * np.sum(P, axis=1)\n",
    "\n",
    "    # Concatenate the derivatives into a single vector\n",
    "    return np.concatenate([dSdt, dIdt, dRdt])\n",
    "\n",
    "# Initial state vector\n",
    "y0 = np.concatenate([S0, I0, R0]) #top rows = S, second rows = I, bottom rows = R\n",
    "\n",
    "# Solve the system of ODEs\n",
    "solution = solve_ivp(sir_model, t_span, y0, args=(beta, gamma, P, population), t_eval=t_eval)\n",
    "\n",
    "# Extract results\n",
    "S, I, R = solution.y[:num_patches], solution.y[num_patches:2*num_patches], solution.y[2*num_patches:]\n",
    "\n"
   ]
  },
  {
   "cell_type": "code",
   "execution_count": null,
   "id": "0b76d6a3",
   "metadata": {},
   "outputs": [],
   "source": [
    "# Plot the results\n",
    "plt.figure(figsize=(10, 6))\n",
    "\n",
    "# Plot Susceptible, Infected, and Recovered over time\n",
    "for i in range(num_patches):\n",
    "    plt.plot(solution.t, I[i], label=f'I{ i+1 } patch')\n",
    "    plt.plot(solution.t, R[i], label=f'R{ i+1 } patch')\n",
    "\n",
    "    #plt.plot(solution.t, S[i]+I[i]+R[i], label=f'R{ i+1 } (Recovered)')\n",
    "\n",
    "plt.xlabel('Time')\n",
    "plt.axhline(attack_ratio,ls='--', color='grey')\n",
    "plt.ylim(0,population)\n",
    "plt.ylabel('Active infected')\n",
    "plt.legend(frameon=False)\n",
    "plt.title('Metapopulation SIR Model with Markovian Mobility')\n",
    "plt.grid(True)\n",
    "plt.show()"
   ]
  },
  {
   "cell_type": "code",
   "execution_count": null,
   "id": "3b189ca6",
   "metadata": {},
   "outputs": [],
   "source": [
    "final_attack_ratio = R[:,-1]/population\n",
    "print(final_attack_ratio*100, population)"
   ]
  },
  {
   "cell_type": "markdown",
   "id": "fcd65577",
   "metadata": {},
   "source": [
    "## heterogeneous populations, deterministic model"
   ]
  },
  {
   "cell_type": "code",
   "execution_count": null,
   "id": "2d8655cf",
   "metadata": {},
   "outputs": [],
   "source": [
    "population = np.array([400,100,400,1000,400])  # Total population per patch\n",
    "S0 = np.array(population)\n",
    "\n",
    "#create random matrix of transitions \n",
    "np.random.seed(9001)\n",
    "#let movements between i!=j must be lower than between i=j\n",
    "OD_matrix = np.random.random_integers(low=0, high=0.5 * min(population) / num_patches, size=(num_patches,num_patches))\n",
    "#set diagonal to zero\n",
    "n = OD_matrix.shape[0]\n",
    "OD_matrix[range(n), range(n)] = 0 \n",
    "#flows between i and j must be symmetric, those who go also come back\n",
    "OD_matrix = (OD_matrix+OD_matrix.T)\n",
    "#count how many do not move in each population\n",
    "staying = population - OD_matrix.sum(axis=1)\n",
    "#set movements in the diagonal i = j\n",
    "OD_matrix[range(n), range(n)] = staying\n",
    "#normalize rows to sum to 1, these are rates of transition per population\n",
    "row_sums = OD_matrix.sum(axis=1, keepdims=True)\n",
    "# Transition matrix for mobility between patches (Markovian)\n",
    "P = OD_matrix / row_sums"
   ]
  },
  {
   "cell_type": "code",
   "execution_count": null,
   "id": "e730d18f",
   "metadata": {},
   "outputs": [],
   "source": [
    "staying"
   ]
  },
  {
   "cell_type": "code",
   "execution_count": null,
   "id": "e0ddb696",
   "metadata": {},
   "outputs": [],
   "source": [
    "OD_matrix"
   ]
  },
  {
   "cell_type": "code",
   "execution_count": null,
   "id": "7968cea7",
   "metadata": {},
   "outputs": [],
   "source": [
    "OD_matrix.sum(axis=1, keepdims=True)"
   ]
  },
  {
   "cell_type": "code",
   "execution_count": null,
   "id": "48600c3f",
   "metadata": {},
   "outputs": [],
   "source": [
    "P"
   ]
  },
  {
   "cell_type": "code",
   "execution_count": null,
   "id": "1cd6d1ca",
   "metadata": {},
   "outputs": [],
   "source": [
    "\n",
    "subpopulation_R0 = beta/gamma\n",
    "attack_ratio = population*(1 - np.exp(-subpopulation_R0))\n",
    "print(subpopulation_R0 , attack_ratio)\n",
    "\n",
    "# Initial conditions (S, I, R for each patch)\n",
    "S0 = np.array(population) # initial susceptible populations\n",
    "S0[seed] -= nseeds   # remove seeds from seed susceptible populations\n",
    "\n",
    "I0 = np.zeros(num_patches) # initial infected populations\n",
    "I0[seed] = nseeds          # seeds\n",
    "R0 = np.zeros(num_patches) # initial recovered populations\n",
    "\n",
    "# Model system of ODEs\n",
    "def sir_model(t, y, beta, gamma, P, population):\n",
    "    # Reshape the state vector y into S, I, R for each patch\n",
    "    S = y[:num_patches] #top rows\n",
    "    I = y[num_patches:2*num_patches] #middle rows\n",
    "    R = y[2*num_patches:] #bottom rows\n",
    "    \n",
    "    # Calculate the force of infection for each patch\n",
    "    lambda_i = force_of_infection(beta, I, P, population)\n",
    "    \n",
    "    # Compute the derivatives for each patch\n",
    "    dSdt = - S * lambda_i + np.dot(S, P) - S * np.sum(P, axis=1)\n",
    "    dIdt = S * lambda_i - gamma  * I + np.dot(I, P) - I * np.sum(P, axis=1)\n",
    "    dRdt = gamma * I + np.dot(R, P) - R * np.sum(P, axis=1)\n",
    "    \n",
    "    # Concatenate the derivatives into a single vector\n",
    "    return np.concatenate([dSdt, dIdt, dRdt])\n",
    "\n",
    "# Initial state vector\n",
    "y0 = np.concatenate([S0, I0, R0]) #top rows = S, second rows = I, bottom rows = R\n",
    "\n",
    "# Solve the system of ODEs\n",
    "solution = solve_ivp(sir_model, t_span, y0, args=(beta, gamma, P, population), t_eval=t_eval)\n",
    "\n",
    "# Extract results\n",
    "S, I, R = solution.y[:num_patches], solution.y[num_patches:2*num_patches], solution.y[2*num_patches:]\n",
    "\n"
   ]
  },
  {
   "cell_type": "code",
   "execution_count": null,
   "id": "bed4772b",
   "metadata": {},
   "outputs": [],
   "source": [
    "# Plot the results\n",
    "plt.figure(figsize=(10, 6))\n",
    "\n",
    "# Plot Susceptible, Infected, and Recovered over time\n",
    "for i in range(num_patches):\n",
    "    plt.plot(solution.t, I[i], label=f'I{ i+1 } patch')\n",
    "    #plt.plot(solution.t, S[i]+I[i]+R[i], label=f'R{ i+1 } (Recovered)')\n",
    "\n",
    "plt.xlabel('Time')\n",
    "plt.ylabel('Active infected')\n",
    "plt.legend(frameon=False)\n",
    "plt.title('Metapopulation SIR Model with Markovian Mobility')\n",
    "plt.grid(True)\n",
    "plt.show()"
   ]
  },
  {
   "cell_type": "code",
   "execution_count": null,
   "id": "12975c29",
   "metadata": {},
   "outputs": [],
   "source": [
    "# Plot the results\n",
    "plt.figure(figsize=(10, 6))\n",
    "\n",
    "# Plot Susceptible, Infected, and Recovered over time\n",
    "for i in range(num_patches):\n",
    "    plt.plot(solution.t, I[i], label=f'I{ i+1 } patch')\n",
    "    plt.plot(solution.t, R[i], label=f'R{ i+1 } patch')\n",
    "    plt.axhline(attack_ratio[i],ls='--', color='grey')\n",
    "\n",
    "    #plt.plot(solution.t, S[i]+I[i]+R[i], label=f'R{ i+1 } (Recovered)')\n",
    "\n",
    "plt.xlabel('Time')\n",
    "\n",
    "plt.ylim(0,max(population))\n",
    "plt.ylabel('Active infected')\n",
    "plt.legend(frameon=False)\n",
    "plt.title('Metapopulation SIR Model with Markovian Mobility')\n",
    "plt.grid(True)\n",
    "plt.show()"
   ]
  },
  {
   "cell_type": "code",
   "execution_count": null,
   "id": "055e317f",
   "metadata": {},
   "outputs": [],
   "source": [
    "final_attack_ratio = R[:,-1]/population\n",
    "print(final_attack_ratio*100, population)"
   ]
  },
  {
   "cell_type": "markdown",
   "id": "549f4058",
   "metadata": {},
   "source": [
    "### apply travel bans"
   ]
  },
  {
   "cell_type": "code",
   "execution_count": null,
   "id": "90bdfca1",
   "metadata": {},
   "outputs": [],
   "source": [
    "\n",
    "ban = 0.5 #value from 0 to 1\n",
    "\n",
    "OD_matrix_ban = np.zeros((num_patches, num_patches))\n",
    "\n",
    "for i in range(n):\n",
    "    for j in range(n):\n",
    "        if i!=j:\n",
    "            OD_matrix_ban[i,j] = (1-ban)*OD_matrix[i,j]\n",
    "\n",
    "#count how many do not move in each population\n",
    "staying = population - OD_matrix_ban.sum(axis=1)\n",
    "#set movements in the diagonal i = j\n",
    "OD_matrix_ban[range(n), range(n)] = staying\n",
    "            \n",
    "#normalize rows to sum to 1, these are rates of transition per population\n",
    "row_sums = OD_matrix_ban.sum(axis=1, keepdims=True)\n",
    "# Transition matrix for mobility between patches (Markovian)\n",
    "P = OD_matrix_ban / row_sums"
   ]
  },
  {
   "cell_type": "code",
   "execution_count": null,
   "id": "2d5d5f25",
   "metadata": {},
   "outputs": [],
   "source": [
    "P"
   ]
  },
  {
   "cell_type": "code",
   "execution_count": null,
   "id": "8a2bfd5a",
   "metadata": {},
   "outputs": [],
   "source": [
    "\n",
    "subpopulation_R0 = beta/gamma\n",
    "attack_ratio = population*(1 - np.exp(-subpopulation_R0))\n",
    "print(subpopulation_R0 , attack_ratio)\n",
    "\n",
    "# Initial conditions (S, I, R for each patch)\n",
    "S0 = np.array(population) # initial susceptible populations\n",
    "S0[seed] -= nseeds   # remove seeds from seed susceptible populations\n",
    "\n",
    "I0 = np.zeros(num_patches) # initial infected populations\n",
    "I0[seed] = nseeds          # seeds\n",
    "R0 = np.zeros(num_patches) # initial recovered populations\n",
    "\n",
    "# Model system of ODEs\n",
    "def sir_model(t, y, beta, gamma, P, population):\n",
    "    # Reshape the state vector y into S, I, R for each patch\n",
    "    S = y[:num_patches] #top rows\n",
    "    I = y[num_patches:2*num_patches] #middle rows\n",
    "    R = y[2*num_patches:] #bottom rows\n",
    "    \n",
    "    # Calculate the force of infection for each patch\n",
    "    lambda_i = force_of_infection(beta, I, P, population)\n",
    "    \n",
    "    # Compute the derivatives for each patch\n",
    "    dSdt = - S * lambda_i + np.dot(S, P) - S * np.sum(P, axis=1)\n",
    "    dIdt = S * lambda_i - gamma  * I + np.dot(I, P) - I * np.sum(P, axis=1)\n",
    "    dRdt = gamma * I + np.dot(R, P) - R * np.sum(P, axis=1)\n",
    "    \n",
    "    # Concatenate the derivatives into a single vector\n",
    "    return np.concatenate([dSdt, dIdt, dRdt])\n",
    "\n",
    "# Initial state vector\n",
    "y0 = np.concatenate([S0, I0, R0]) #top rows = S, second rows = I, bottom rows = R\n",
    "\n",
    "# Solve the system of ODEs\n",
    "solution = solve_ivp(sir_model, t_span, y0, args=(beta, gamma, P, population), t_eval=t_eval)\n",
    "\n",
    "# Extract results\n",
    "Sc, Ic, Rc = solution.y[:num_patches], solution.y[num_patches:2*num_patches], solution.y[2*num_patches:]\n",
    "\n"
   ]
  },
  {
   "cell_type": "code",
   "execution_count": null,
   "id": "70756ec3",
   "metadata": {},
   "outputs": [],
   "source": [
    "# Plot the results\n",
    "plt.figure(figsize=(10, 6))\n",
    "\n",
    "# Plot Susceptible, Infected, and Recovered over time\n",
    "for i in range(num_patches):\n",
    "    plt.plot(solution.t, I[i], label=f'I{ i+1 } patch')\n",
    "    plt.plot(solution.t, Ic[i], label=f'I ban { i+1 } patch', ls='--')\n",
    "\n",
    "    #plt.plot(solution.t, S[i]+I[i]+R[i], label=f'R{ i+1 } (Recovered)')\n",
    "\n",
    "plt.xlabel('Time')\n",
    "plt.ylabel('Active infected')\n",
    "plt.legend(frameon=False)\n",
    "plt.title('Metapopulation SIR Model with Markovian Mobility')\n",
    "plt.grid(True)\n",
    "plt.show()"
   ]
  },
  {
   "cell_type": "markdown",
   "id": "2fe16318",
   "metadata": {},
   "source": [
    "tempo guadagnato grazie alle restrizioni"
   ]
  },
  {
   "cell_type": "code",
   "execution_count": null,
   "id": "218276a3",
   "metadata": {},
   "outputs": [],
   "source": [
    "for i in range(num_patches):\n",
    "    print('Population #'+str(i), round(solution.t[np.argmax(Ic[i])]-solution.t[np.argmax(I[i])]), 'days')"
   ]
  },
  {
   "cell_type": "markdown",
   "id": "07078a34",
   "metadata": {},
   "source": [
    "#### verify what happens with  R0 < 1  \n",
    "#### verify delay of epidemics when banning 80 - 99% of trips"
   ]
  },
  {
   "cell_type": "code",
   "execution_count": null,
   "id": "40aeb96d-0d20-4a74-bc87-8a640f2553f9",
   "metadata": {},
   "outputs": [],
   "source": []
  }
 ],
 "metadata": {
  "kernelspec": {
   "display_name": "Python 3 (ipykernel)",
   "language": "python",
   "name": "python3"
  },
  "language_info": {
   "codemirror_mode": {
    "name": "ipython",
    "version": 3
   },
   "file_extension": ".py",
   "mimetype": "text/x-python",
   "name": "python",
   "nbconvert_exporter": "python",
   "pygments_lexer": "ipython3",
   "version": "3.12.11"
  }
 },
 "nbformat": 4,
 "nbformat_minor": 5
}
