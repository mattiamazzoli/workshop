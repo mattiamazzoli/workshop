{
 "cells": [
  {
   "cell_type": "code",
   "execution_count": 1,
   "id": "93f514fb-ea1b-4e22-9c24-5a160111e35d",
   "metadata": {},
   "outputs": [],
   "source": [
    "from matplotlib import *\n",
    "from __future__ import division\n",
    "import numpy as np\n",
    "from matplotlib import pyplot as plt\n",
    "import pandas as pd\n",
    "import geopandas as gpd\n",
    "import matplotlib.pyplot as plt\n",
    "import matplotlib.cm as cm\n",
    "from sklearn.metrics.pairwise import pairwise_distances\n"
   ]
  },
  {
   "cell_type": "markdown",
   "id": "27606ac7",
   "metadata": {},
   "source": [
    "## create fake populations and distances"
   ]
  },
  {
   "cell_type": "code",
   "execution_count": 2,
   "id": "b7b615fb",
   "metadata": {},
   "outputs": [],
   "source": [
    "\n",
    "# Sample Data: Population of locations (Replace with WorldPop data)\n",
    "locations = ['A', 'B', 'C', 'D', 'E']\n",
    "population = [10000, 5000, 20000, 15000, 12000]\n",
    "distances = {\n",
    "    ('A', 'B'): 10, ('A', 'C'): 30, ('A', 'D'): 50, ('A', 'E'): 70,\n",
    "    ('B', 'C'): 20, ('B', 'D'): 40, ('B', 'E'): 60,\n",
    "    ('C', 'D'): 15, ('C', 'E'): 35,\n",
    "    ('D', 'E'): 25\n",
    "}\n",
    "\n",
    "# Convert to DataFrame\n",
    "pop_df = pd.DataFrame({'Location': locations, 'Population': population})\n",
    "dist_df = pd.DataFrame([(k[0], k[1], v) for k, v in distances.items()], columns=['From', 'To', 'Distance'])\n"
   ]
  },
  {
   "cell_type": "markdown",
   "id": "22ab2c5a",
   "metadata": {},
   "source": [
    "## Build your Gravity Model "
   ]
  },
  {
   "cell_type": "markdown",
   "id": "7601cf94",
   "metadata": {},
   "source": [
    "The number of trips occurring from i to j are inversely proportional to the distance that divides i and j and where masses of origin and destination are the respective populations.\n",
    "\n",
    "\n",
    "The form with the power law deterrence functions is written as:  \n",
    "$\\Large T_{ij} = K \\frac{m_i^\\alpha m_j^\\beta}{d^\\gamma}$\n",
    "\n",
    "The form with the exponential deterrence functions is written as:  \n",
    "$\\Large T_{ij} = K m_i^\\alpha m_j^\\beta e^{-d/d_0}$\n",
    "\n",
    "\n",
    "where $\\alpha$ and $\\beta$ modulate the attractiveness of masses  \n",
    "$\\gamma$ regulates the decay of the gravity force with distance  \n",
    "and $d_0$ represents the typical distance travelled by individuals"
   ]
  },
  {
   "cell_type": "markdown",
   "id": "3fbb27e6",
   "metadata": {},
   "source": [
    "### create a table containing the two gravity models predicted flows between i and j"
   ]
  },
  {
   "cell_type": "code",
   "execution_count": 3,
   "id": "eb9bf49b",
   "metadata": {},
   "outputs": [
    {
     "name": "stdout",
     "output_type": "stream",
     "text": [
      "Gravity Model Results:\n",
      "  From To  Distance  Gravity Flow  Gravity Flow Exp\n",
      "0    A  B        10  5.000000e+05      4.990010e+07\n",
      "1    A  C        30  2.222222e+05      1.988036e+08\n",
      "2    A  D        50  6.000000e+04      1.485075e+08\n",
      "3    A  E        70  2.448980e+04      1.183317e+08\n",
      "4    B  C        20  2.500000e+05      9.960080e+07\n",
      "5    B  D        40  4.687500e+04      7.440239e+07\n",
      "6    B  E        60  1.666667e+04      5.928430e+07\n",
      "7    C  D        15  1.333333e+06      2.991013e+08\n",
      "8    C  E        35  1.959184e+05      2.383259e+08\n",
      "9    D  E        25  2.880000e+05      1.791022e+08\n"
     ]
    }
   ],
   "source": [
    "\n",
    "def gravity_model(pop_df, dist_df, alpha=1, beta=1):\n",
    "    flows = []\n",
    "    for _, row in dist_df.iterrows():\n",
    "        pop_i = pop_df.loc[pop_df['Location'] == row['From'], 'Population'].values[0]\n",
    "        pop_j = pop_df.loc[pop_df['Location'] == row['To'], 'Population'].values[0]\n",
    "        distance = row['Distance']\n",
    "        flow = (pop_i ** alpha * pop_j ** beta) / (distance ** 2)\n",
    "        flows.append(flow)\n",
    "    dist_df['Gravity Flow'] = flows\n",
    "    return dist_df\n",
    "\n",
    "def gravity_model_exp(pop_df, dist_df, alpha=1, beta=1):\n",
    "    flows = []\n",
    "    for _, row in dist_df.iterrows():\n",
    "        pop_i = pop_df.loc[pop_df['Location'] == row['From'], 'Population'].values[0]\n",
    "        pop_j = pop_df.loc[pop_df['Location'] == row['To'], 'Population'].values[0]\n",
    "        distance = row['Distance']\n",
    "        flow = (pop_i ** alpha * pop_j ** beta) * np.exp(-distance/d0)\n",
    "        flows.append(flow)\n",
    "    dist_df['Gravity Flow Exp'] = flows\n",
    "    return dist_df\n",
    "\n",
    "alpha=1\n",
    "beta=1\n",
    "d0=5000\n",
    "gravity_results = gravity_model(pop_df, dist_df)\n",
    "gravity_results = gravity_model_exp(pop_df, dist_df)\n",
    "\n",
    "print(\"Gravity Model Results:\")\n",
    "print(gravity_results)\n"
   ]
  },
  {
   "cell_type": "markdown",
   "id": "c96163e8",
   "metadata": {},
   "source": [
    "## Build your Radiation Model"
   ]
  },
  {
   "cell_type": "markdown",
   "id": "60278800",
   "metadata": {},
   "source": [
    "The number of trips occurring from i to j is controlled by the formula\n",
    "\n",
    "\n",
    "$\\Large T_{ij} = T_i \\frac{(m_i m_j)}{(m_i + s_{ij})(m_i + m_j + s_{ij})}$\n",
    "\n",
    "\n",
    "\n",
    "\n",
    "where $m_i$ and $m_j$ are the populations of i and j and $s_{ij}$ is the intervening population\n"
   ]
  },
  {
   "cell_type": "markdown",
   "id": "cc6e1cdf",
   "metadata": {},
   "source": [
    "### Add the radiation model predicted flows to the table of results"
   ]
  },
  {
   "cell_type": "code",
   "execution_count": 4,
   "id": "d00fcedf",
   "metadata": {},
   "outputs": [
    {
     "name": "stdout",
     "output_type": "stream",
     "text": [
      "0\n",
      "5000\n",
      "25000\n",
      "40000\n",
      "0\n",
      "20000\n",
      "35000\n",
      "0\n",
      "15000\n",
      "0\n",
      "\n",
      "Radiation Model Results:\n",
      "  From To  Distance  Gravity Flow  Gravity Flow Exp  Radiation Flow\n",
      "0    A  B        10  5.000000e+05      4.990010e+07     3333.333333\n",
      "1    A  C        30  2.222222e+05      1.988036e+08     3809.523810\n",
      "2    A  D        50  6.000000e+04      1.485075e+08      857.142857\n",
      "3    A  E        70  2.448980e+04      1.183317e+08      387.096774\n",
      "4    B  C        20  2.500000e+05      9.960080e+07     4000.000000\n",
      "5    B  D        40  4.687500e+04      7.440239e+07      375.000000\n",
      "6    B  E        60  1.666667e+04      5.928430e+07      144.230769\n",
      "7    C  D        15  1.333333e+06      2.991013e+08     8571.428571\n",
      "8    C  E        35  1.959184e+05      2.383259e+08     2917.933131\n",
      "9    D  E        25  2.880000e+05      1.791022e+08     6666.666667\n"
     ]
    }
   ],
   "source": [
    "\n",
    "def radiation_model(pop_df, dist_df):\n",
    "    flows = []\n",
    "    for _, row in dist_df.iterrows():\n",
    "        pop_i = pop_df.loc[pop_df['Location'] == row['From'], 'Population'].values[0]\n",
    "        pop_j = pop_df.loc[pop_df['Location'] == row['To'], 'Population'].values[0]\n",
    "        distance = dist_df[(dist_df.From==row['From'])&(dist_df.To==row['To'])].Distance\n",
    "        loc_s = set(dist_df[dist_df.From==row['From']].groupby(['To']).filter(lambda x:(x['Distance'].max()<distance)&(x['Distance'].max()>0))['To'].values)\n",
    "        pop_s = pop_df[pop_df.Location.isin(loc_s)]['Population'].sum()\n",
    "        print(pop_s)\n",
    "        flow = pop_i * (pop_i * pop_j / ((pop_i + pop_s) * (pop_i + pop_j + pop_s)))\n",
    "        flows.append(flow)\n",
    "    dist_df['Radiation Flow'] = flows\n",
    "    return dist_df\n",
    "\n",
    "radiation_results = radiation_model(pop_df, dist_df)\n",
    "print(\"\\nRadiation Model Results:\")\n",
    "print(radiation_results)\n"
   ]
  },
  {
   "cell_type": "markdown",
   "id": "ec3498c0",
   "metadata": {},
   "source": [
    "## Now model the mobility between Italian provinces  \n",
    "population from https://demo.istat.it/app/?i=POS "
   ]
  },
  {
   "cell_type": "code",
   "execution_count": 42,
   "id": "46f1f591-10ad-425d-b7f1-c6d46c8afad9",
   "metadata": {},
   "outputs": [
    {
     "data": {
      "text/html": [
       "<div>\n",
       "<style scoped>\n",
       "    .dataframe tbody tr th:only-of-type {\n",
       "        vertical-align: middle;\n",
       "    }\n",
       "\n",
       "    .dataframe tbody tr th {\n",
       "        vertical-align: top;\n",
       "    }\n",
       "\n",
       "    .dataframe thead th {\n",
       "        text-align: right;\n",
       "    }\n",
       "</style>\n",
       "<table border=\"1\" class=\"dataframe\">\n",
       "  <thead>\n",
       "    <tr style=\"text-align: right;\">\n",
       "      <th></th>\n",
       "      <th>SIGLA</th>\n",
       "      <th>DEN_PCM</th>\n",
       "    </tr>\n",
       "    <tr>\n",
       "      <th>COD_PROV</th>\n",
       "      <th></th>\n",
       "      <th></th>\n",
       "    </tr>\n",
       "  </thead>\n",
       "  <tbody>\n",
       "    <tr>\n",
       "      <th>1</th>\n",
       "      <td>TO</td>\n",
       "      <td>Torino</td>\n",
       "    </tr>\n",
       "    <tr>\n",
       "      <th>2</th>\n",
       "      <td>VC</td>\n",
       "      <td>Vercelli</td>\n",
       "    </tr>\n",
       "    <tr>\n",
       "      <th>3</th>\n",
       "      <td>NO</td>\n",
       "      <td>Novara</td>\n",
       "    </tr>\n",
       "    <tr>\n",
       "      <th>4</th>\n",
       "      <td>CN</td>\n",
       "      <td>Cuneo</td>\n",
       "    </tr>\n",
       "    <tr>\n",
       "      <th>5</th>\n",
       "      <td>AT</td>\n",
       "      <td>Asti</td>\n",
       "    </tr>\n",
       "  </tbody>\n",
       "</table>\n",
       "</div>"
      ],
      "text/plain": [
       "         SIGLA   DEN_PCM\n",
       "COD_PROV                \n",
       "1           TO    Torino\n",
       "2           VC  Vercelli\n",
       "3           NO    Novara\n",
       "4           CN     Cuneo\n",
       "5           AT      Asti"
      ]
     },
     "execution_count": 42,
     "metadata": {},
     "output_type": "execute_result"
    }
   ],
   "source": [
    "pops = pd.read_csv('../data/id_provinces_it.csv').drop(['Unnamed: 0'],axis=1)\n",
    "#things happen... 'NA' stands for Napoli (Naples), but geopandas reads it as nan...\n",
    "pops = pops.fillna('NA')\n",
    "pops.set_index('COD_PROV',inplace=True)\n",
    "pops.head()"
   ]
  },
  {
   "cell_type": "code",
   "execution_count": 44,
   "id": "a778ade2-9067-4d41-96b7-52484dc4f9d8",
   "metadata": {},
   "outputs": [
    {
     "data": {
      "text/html": [
       "<div>\n",
       "<style scoped>\n",
       "    .dataframe tbody tr th:only-of-type {\n",
       "        vertical-align: middle;\n",
       "    }\n",
       "\n",
       "    .dataframe tbody tr th {\n",
       "        vertical-align: top;\n",
       "    }\n",
       "\n",
       "    .dataframe thead th {\n",
       "        text-align: right;\n",
       "    }\n",
       "</style>\n",
       "<table border=\"1\" class=\"dataframe\">\n",
       "  <thead>\n",
       "    <tr style=\"text-align: right;\">\n",
       "      <th></th>\n",
       "      <th>Totale</th>\n",
       "    </tr>\n",
       "    <tr>\n",
       "      <th>Codice provincia</th>\n",
       "      <th></th>\n",
       "    </tr>\n",
       "  </thead>\n",
       "  <tbody>\n",
       "    <tr>\n",
       "      <th>1</th>\n",
       "      <td>2207873</td>\n",
       "    </tr>\n",
       "    <tr>\n",
       "      <th>2</th>\n",
       "      <td>165878</td>\n",
       "    </tr>\n",
       "    <tr>\n",
       "      <th>3</th>\n",
       "      <td>364478</td>\n",
       "    </tr>\n",
       "    <tr>\n",
       "      <th>4</th>\n",
       "      <td>581676</td>\n",
       "    </tr>\n",
       "    <tr>\n",
       "      <th>5</th>\n",
       "      <td>207310</td>\n",
       "    </tr>\n",
       "  </tbody>\n",
       "</table>\n",
       "</div>"
      ],
      "text/plain": [
       "                   Totale\n",
       "Codice provincia         \n",
       "1                 2207873\n",
       "2                  165878\n",
       "3                  364478\n",
       "4                  581676\n",
       "5                  207310"
      ]
     },
     "execution_count": 44,
     "metadata": {},
     "output_type": "execute_result"
    }
   ],
   "source": [
    "pop_prov = pd.read_csv('../data/Popolazione residente.csv')\n",
    "pop_prov = pop_prov[['Codice provincia', 'Totale']]\n",
    "pop_prov.set_index('Codice provincia', inplace=True)\n",
    "pop_prov.head()"
   ]
  },
  {
   "cell_type": "code",
   "execution_count": 45,
   "id": "0f95144e-8829-4db1-b037-8834640a4cea",
   "metadata": {},
   "outputs": [
    {
     "data": {
      "text/plain": [
       "107"
      ]
     },
     "execution_count": 45,
     "metadata": {},
     "output_type": "execute_result"
    }
   ],
   "source": [
    "populations = pops.merge(pop_prov, how='left', left_on='COD_PROV', right_on='Codice provincia')\n",
    "#populations.to_csv('population_provinces.csv')\n",
    "len(populations)"
   ]
  },
  {
   "cell_type": "code",
   "execution_count": 46,
   "id": "7107ff2b-fc26-481c-9cee-dc7b619b6f35",
   "metadata": {},
   "outputs": [],
   "source": [
    "places = populations.SIGLA"
   ]
  },
  {
   "cell_type": "markdown",
   "id": "8775e962",
   "metadata": {},
   "source": [
    "Get mobility data from https://data.humdata.org/dataset/covid-19-mobility-italy   \n",
    "paper https://www.nature.com/articles/s41597-020-00575-2   \n",
    "mobility matrix, already normalized across columns => outflows sum to 1 for each patch"
   ]
  },
  {
   "cell_type": "code",
   "execution_count": 54,
   "id": "d68f7e7f",
   "metadata": {},
   "outputs": [],
   "source": [
    "OD = pd.read_csv('../data/od_matrix_daily_flows_norm_full_2020_01_18_2020_06_26.csv')\n",
    "\n",
    "#from dataframe, create matrix filling empty positions\n",
    "P = OD.sort_values(['p1','p2']).groupby(['p1','p2']).sum().unstack().fillna(0)\n",
    "P = P['2020-01-29'].to_numpy()"
   ]
  },
  {
   "cell_type": "markdown",
   "id": "12352936-3a85-496e-853a-2537993ecde4",
   "metadata": {},
   "source": [
    "<div class=\"alert alert-block alert-warning\" style=\"font-size:120%\">\n",
    "\n",
    "**ATTENTION**  \n",
    "the mobility matrix was computed on population samples resulting from a data collection that is not representative of the local populations  \n",
    "\n",
    "we need to project these probabilities into real provinces population, to do this we will:\n",
    "\n",
    "* project probabilities to total trips following census population\n",
    "* make it symmetric, assume all trips in one direction are also round trips\n",
    "\n",
    "</div>"
   ]
  },
  {
   "cell_type": "code",
   "execution_count": 85,
   "id": "2b83c8b7-3f6e-4748-9c88-7862c8f85b66",
   "metadata": {},
   "outputs": [],
   "source": [
    "# retrieve total flows from origins\n",
    "p2 = P*np.array(populations.Totale)\n",
    "\n",
    "# the original matrix is directed, make it symmetric or populations will be mixed!\n",
    "OD_matrix = np.round((p2+p2.T)/2)"
   ]
  },
  {
   "cell_type": "markdown",
   "id": "184c36d4-756f-4628-85b9-488d28a5278d",
   "metadata": {},
   "source": [
    "download shapefile of italian provinces from https://public.opendatasoft.com/explore/dataset/georef-italy-provincia/information/"
   ]
  },
  {
   "cell_type": "code",
   "execution_count": 64,
   "id": "f6a90bce-0a0a-43b3-87f8-95bc1bcdaed4",
   "metadata": {},
   "outputs": [
    {
     "data": {
      "text/plain": [
       "(1263367.6894823099, 2361994.6851407625, 3869344.226223284, 5284646.808183195)"
      ]
     },
     "execution_count": 64,
     "metadata": {},
     "output_type": "execute_result"
    },
    {
     "data": {
      "image/png": "[encoded data removed]",
      "text/plain": [
       "<Figure size 640x480 with 1 Axes>"
      ]
     },
     "metadata": {},
     "output_type": "display_data"
    }
   ],
   "source": [
    "map_prov = gpd.read_file('../data/georef-italy-provincia/georef-italy-provincia-millesime.shp')\n",
    "map_prov = map_prov[['prov_sigla','geometry']]\n",
    "map_prov = map_prov.to_crs(epsg=3003)\n",
    "map_prov.plot(edgecolor='w',facecolor='lightblue',lw=.2)\n",
    "plt.axis('off')"
   ]
  },
  {
   "cell_type": "code",
   "execution_count": 65,
   "id": "bec097bb-7c21-4b5e-a17b-632bd4305f5f",
   "metadata": {},
   "outputs": [],
   "source": [
    "#reorder to match order of data\n",
    "map_prov = map_prov.set_index(\"prov_sigla\")\n",
    "map_prov = map_prov.reindex(places)\n",
    "map_prov = map_prov.reset_index()\n"
   ]
  },
  {
   "cell_type": "code",
   "execution_count": 66,
   "id": "1f3a0759-b456-4872-98bc-6743420d2c7e",
   "metadata": {},
   "outputs": [
    {
     "data": {
      "text/html": [
       "<div>\n",
       "<style scoped>\n",
       "    .dataframe tbody tr th:only-of-type {\n",
       "        vertical-align: middle;\n",
       "    }\n",
       "\n",
       "    .dataframe tbody tr th {\n",
       "        vertical-align: top;\n",
       "    }\n",
       "\n",
       "    .dataframe thead th {\n",
       "        text-align: right;\n",
       "    }\n",
       "</style>\n",
       "<table border=\"1\" class=\"dataframe\">\n",
       "  <thead>\n",
       "    <tr style=\"text-align: right;\">\n",
       "      <th></th>\n",
       "      <th>SIGLA</th>\n",
       "      <th>geometry</th>\n",
       "    </tr>\n",
       "  </thead>\n",
       "  <tbody>\n",
       "    <tr>\n",
       "      <th>0</th>\n",
       "      <td>TO</td>\n",
       "      <td>POLYGON ((1413895.601 5049112.702, 1413847.945...</td>\n",
       "    </tr>\n",
       "    <tr>\n",
       "      <th>1</th>\n",
       "      <td>VC</td>\n",
       "      <td>POLYGON ((1412952.07 5086507.78, 1413034.71 50...</td>\n",
       "    </tr>\n",
       "    <tr>\n",
       "      <th>2</th>\n",
       "      <td>NO</td>\n",
       "      <td>POLYGON ((1449479.28 5068983.792, 1449603.407 ...</td>\n",
       "    </tr>\n",
       "    <tr>\n",
       "      <th>3</th>\n",
       "      <td>CN</td>\n",
       "      <td>MULTIPOLYGON (((1378953.658 4958558.311, 13791...</td>\n",
       "    </tr>\n",
       "    <tr>\n",
       "      <th>4</th>\n",
       "      <td>AT</td>\n",
       "      <td>POLYGON ((1441342.497 4929852.335, 1441348.092...</td>\n",
       "    </tr>\n",
       "  </tbody>\n",
       "</table>\n",
       "</div>"
      ],
      "text/plain": [
       "  SIGLA                                           geometry\n",
       "0    TO  POLYGON ((1413895.601 5049112.702, 1413847.945...\n",
       "1    VC  POLYGON ((1412952.07 5086507.78, 1413034.71 50...\n",
       "2    NO  POLYGON ((1449479.28 5068983.792, 1449603.407 ...\n",
       "3    CN  MULTIPOLYGON (((1378953.658 4958558.311, 13791...\n",
       "4    AT  POLYGON ((1441342.497 4929852.335, 1441348.092..."
      ]
     },
     "execution_count": 66,
     "metadata": {},
     "output_type": "execute_result"
    }
   ],
   "source": [
    "map_prov.head()"
   ]
  },
  {
   "cell_type": "markdown",
   "id": "c0e7b3dc-5309-446d-9499-9f0566d86e40",
   "metadata": {},
   "source": [
    "remember how we computed the centroid for polygons in geopandas?"
   ]
  },
  {
   "cell_type": "code",
   "execution_count": 67,
   "id": "5e7482c6-b483-45cd-ac1a-4c93b44a498e",
   "metadata": {},
   "outputs": [
    {
     "data": {
      "image/png": "[encoded data removed]",
      "text/plain": [
       "<Figure size 640x480 with 1 Axes>"
      ]
     },
     "metadata": {},
     "output_type": "display_data"
    }
   ],
   "source": [
    "map_prov['centroid'] = map_prov.centroid\n",
    "ax=map_prov.plot( linewidth=.5, edgecolor='w', color='lightblue')\n",
    "map_prov['centroid'].plot(color='k',ax=ax, markersize=1)\n",
    "ax.axis('off')\n",
    "plt.show()"
   ]
  },
  {
   "cell_type": "code",
   "execution_count": 68,
   "id": "69f19a9c-882f-4fd8-8c99-2518151d797b",
   "metadata": {},
   "outputs": [
    {
     "data": {
      "text/html": [
       "<div>\n",
       "<style scoped>\n",
       "    .dataframe tbody tr th:only-of-type {\n",
       "        vertical-align: middle;\n",
       "    }\n",
       "\n",
       "    .dataframe tbody tr th {\n",
       "        vertical-align: top;\n",
       "    }\n",
       "\n",
       "    .dataframe thead th {\n",
       "        text-align: right;\n",
       "    }\n",
       "</style>\n",
       "<table border=\"1\" class=\"dataframe\">\n",
       "  <thead>\n",
       "    <tr style=\"text-align: right;\">\n",
       "      <th></th>\n",
       "      <th>SIGLA</th>\n",
       "      <th>geometry</th>\n",
       "      <th>centroid</th>\n",
       "      <th>DEN_PCM</th>\n",
       "      <th>Totale</th>\n",
       "    </tr>\n",
       "  </thead>\n",
       "  <tbody>\n",
       "    <tr>\n",
       "      <th>0</th>\n",
       "      <td>TO</td>\n",
       "      <td>POLYGON ((1413895.601 5049112.702, 1413847.945...</td>\n",
       "      <td>POINT (1377242.348 5000194)</td>\n",
       "      <td>Torino</td>\n",
       "      <td>2207873</td>\n",
       "    </tr>\n",
       "    <tr>\n",
       "      <th>1</th>\n",
       "      <td>VC</td>\n",
       "      <td>POLYGON ((1412952.07 5086507.78, 1413034.71 50...</td>\n",
       "      <td>POINT (1438337.932 5041500.224)</td>\n",
       "      <td>Vercelli</td>\n",
       "      <td>165878</td>\n",
       "    </tr>\n",
       "    <tr>\n",
       "      <th>2</th>\n",
       "      <td>NO</td>\n",
       "      <td>POLYGON ((1449479.28 5068983.792, 1449603.407 ...</td>\n",
       "      <td>POINT (1465227.191 5045648.772)</td>\n",
       "      <td>Novara</td>\n",
       "      <td>364478</td>\n",
       "    </tr>\n",
       "    <tr>\n",
       "      <th>3</th>\n",
       "      <td>CN</td>\n",
       "      <td>MULTIPOLYGON (((1378953.658 4958558.311, 13791...</td>\n",
       "      <td>POINT (1387719.007 4925839)</td>\n",
       "      <td>Cuneo</td>\n",
       "      <td>581676</td>\n",
       "    </tr>\n",
       "    <tr>\n",
       "      <th>4</th>\n",
       "      <td>AT</td>\n",
       "      <td>POLYGON ((1441342.497 4929852.335, 1441348.092...</td>\n",
       "      <td>POINT (1435769.513 4969660.386)</td>\n",
       "      <td>Asti</td>\n",
       "      <td>207310</td>\n",
       "    </tr>\n",
       "  </tbody>\n",
       "</table>\n",
       "</div>"
      ],
      "text/plain": [
       "  SIGLA                                           geometry  \\\n",
       "0    TO  POLYGON ((1413895.601 5049112.702, 1413847.945...   \n",
       "1    VC  POLYGON ((1412952.07 5086507.78, 1413034.71 50...   \n",
       "2    NO  POLYGON ((1449479.28 5068983.792, 1449603.407 ...   \n",
       "3    CN  MULTIPOLYGON (((1378953.658 4958558.311, 13791...   \n",
       "4    AT  POLYGON ((1441342.497 4929852.335, 1441348.092...   \n",
       "\n",
       "                          centroid   DEN_PCM   Totale  \n",
       "0      POINT (1377242.348 5000194)    Torino  2207873  \n",
       "1  POINT (1438337.932 5041500.224)  Vercelli   165878  \n",
       "2  POINT (1465227.191 5045648.772)    Novara   364478  \n",
       "3      POINT (1387719.007 4925839)     Cuneo   581676  \n",
       "4  POINT (1435769.513 4969660.386)      Asti   207310  "
      ]
     },
     "execution_count": 68,
     "metadata": {},
     "output_type": "execute_result"
    }
   ],
   "source": [
    "italy_prov = map_prov.merge(populations, how='left', left_on='SIGLA', right_on='SIGLA')\n",
    "italy_prov.head()"
   ]
  },
  {
   "cell_type": "code",
   "execution_count": 69,
   "id": "9ec48de6-f629-4c9d-8e06-a6003e53848d",
   "metadata": {},
   "outputs": [],
   "source": [
    "italy_prov['centroid_x'] = italy_prov['centroid'].apply(lambda x: x.x)\n",
    "italy_prov['centroid_y'] = italy_prov['centroid'].apply(lambda x: x.y)"
   ]
  },
  {
   "cell_type": "markdown",
   "id": "abb109be-75aa-4879-aef9-d42becace479",
   "metadata": {},
   "source": [
    "compute distances in meters (we're in epsg 3003, Monte Mario)"
   ]
  },
  {
   "cell_type": "code",
   "execution_count": 71,
   "id": "44254d2a",
   "metadata": {},
   "outputs": [],
   "source": [
    "locations = italy_prov.SIGLA.tolist()\n",
    "population = italy_prov['Totale'].tolist()\n",
    "\n",
    "distances = pairwise_distances(italy_prov[['centroid_x','centroid_y']], metric='euclidean')\n"
   ]
  },
  {
   "cell_type": "code",
   "execution_count": 72,
   "id": "e85e303e-78e6-40ee-9518-414976c8de57",
   "metadata": {},
   "outputs": [
    {
     "data": {
      "text/plain": [
       "array([0., 0., 0., 0., 0., 0., 0., 0., 0., 0., 0., 0., 0., 0., 0., 0., 0.,\n",
       "       0., 0., 0., 0., 0., 0., 0., 0., 0., 0., 0., 0., 0., 0., 0., 0., 0.,\n",
       "       0., 0., 0., 0., 0., 0., 0., 0., 0., 0., 0., 0., 0., 0., 0., 0., 0.,\n",
       "       0., 0., 0., 0., 0., 0., 0., 0., 0., 0., 0., 0., 0., 0., 0., 0., 0.,\n",
       "       0., 0., 0., 0., 0., 0., 0., 0., 0., 0., 0., 0., 0., 0., 0., 0., 0.,\n",
       "       0., 0., 0., 0., 0., 0., 0., 0., 0., 0., 0., 0., 0., 0., 0., 0., 0.,\n",
       "       0., 0., 0., 0., 0.])"
      ]
     },
     "execution_count": 72,
     "metadata": {},
     "output_type": "execute_result"
    }
   ],
   "source": [
    "np.diag(distances)"
   ]
  },
  {
   "cell_type": "code",
   "execution_count": 73,
   "id": "a88ff916",
   "metadata": {},
   "outputs": [],
   "source": [
    "# Convert to DataFrame\n",
    "pop_df = pd.DataFrame({'Location': locations, 'Population': population})\n",
    "pop_dict = pop_df.set_index('Location')['Population'].to_dict()\n",
    "dist_df = pd.DataFrame(distances, index=locations, columns=locations)"
   ]
  },
  {
   "cell_type": "code",
   "execution_count": 90,
   "id": "c5c3881a-8eec-4d5a-8918-7f6d78ff1c0f",
   "metadata": {},
   "outputs": [
    {
     "data": {
      "text/html": [
       "<div>\n",
       "<style scoped>\n",
       "    .dataframe tbody tr th:only-of-type {\n",
       "        vertical-align: middle;\n",
       "    }\n",
       "\n",
       "    .dataframe tbody tr th {\n",
       "        vertical-align: top;\n",
       "    }\n",
       "\n",
       "    .dataframe thead th {\n",
       "        text-align: right;\n",
       "    }\n",
       "</style>\n",
       "<table border=\"1\" class=\"dataframe\">\n",
       "  <thead>\n",
       "    <tr style=\"text-align: right;\">\n",
       "      <th></th>\n",
       "      <th>TO</th>\n",
       "      <th>VC</th>\n",
       "      <th>NO</th>\n",
       "      <th>CN</th>\n",
       "      <th>AT</th>\n",
       "      <th>AL</th>\n",
       "      <th>AO</th>\n",
       "      <th>IM</th>\n",
       "      <th>SV</th>\n",
       "      <th>GE</th>\n",
       "      <th>...</th>\n",
       "      <th>LO</th>\n",
       "      <th>RN</th>\n",
       "      <th>PO</th>\n",
       "      <th>KR</th>\n",
       "      <th>VV</th>\n",
       "      <th>VB</th>\n",
       "      <th>MB</th>\n",
       "      <th>FM</th>\n",
       "      <th>BT</th>\n",
       "      <th>SU</th>\n",
       "    </tr>\n",
       "  </thead>\n",
       "  <tbody>\n",
       "    <tr>\n",
       "      <th>TO</th>\n",
       "      <td>0.000000</td>\n",
       "      <td>73748.725071</td>\n",
       "      <td>99032.665905</td>\n",
       "      <td>75089.456812</td>\n",
       "      <td>66013.109417</td>\n",
       "      <td>102811.221561</td>\n",
       "      <td>65229.743778</td>\n",
       "      <td>136288.448979</td>\n",
       "      <td>117221.967135</td>\n",
       "      <td>152920.096827</td>\n",
       "      <td>...</td>\n",
       "      <td>168526.694235</td>\n",
       "      <td>419755.514546</td>\n",
       "      <td>319119.082993</td>\n",
       "      <td>1.028038e+06</td>\n",
       "      <td>1.023837e+06</td>\n",
       "      <td>126497.664528</td>\n",
       "      <td>153312.559156</td>\n",
       "      <td>541176.533567</td>\n",
       "      <td>836162.599867</td>\n",
       "      <td>646728.436027</td>\n",
       "    </tr>\n",
       "    <tr>\n",
       "      <th>VC</th>\n",
       "      <td>73748.725071</td>\n",
       "      <td>0.000000</td>\n",
       "      <td>27207.402222</td>\n",
       "      <td>126252.898587</td>\n",
       "      <td>71885.736913</td>\n",
       "      <td>85145.944878</td>\n",
       "      <td>68126.505712</td>\n",
       "      <td>178153.464645</td>\n",
       "      <td>138214.050435</td>\n",
       "      <td>137629.880137</td>\n",
       "      <td>...</td>\n",
       "      <td>112084.292779</td>\n",
       "      <td>379061.349971</td>\n",
       "      <td>287434.895103</td>\n",
       "      <td>1.007824e+06</td>\n",
       "      <td>1.010117e+06</td>\n",
       "      <td>63671.523009</td>\n",
       "      <td>83592.355456</td>\n",
       "      <td>505787.760994</td>\n",
       "      <td>806570.397572</td>\n",
       "      <td>679564.334085</td>\n",
       "    </tr>\n",
       "    <tr>\n",
       "      <th>NO</th>\n",
       "      <td>99032.665905</td>\n",
       "      <td>27207.402222</td>\n",
       "      <td>0.000000</td>\n",
       "      <td>142695.130485</td>\n",
       "      <td>81498.403249</td>\n",
       "      <td>82132.054676</td>\n",
       "      <td>92816.959352</td>\n",
       "      <td>189100.504980</td>\n",
       "      <td>143948.022077</td>\n",
       "      <td>129687.544049</td>\n",
       "      <td>...</td>\n",
       "      <td>88367.069252</td>\n",
       "      <td>357334.982859</td>\n",
       "      <td>269153.344129</td>\n",
       "      <td>9.908553e+05</td>\n",
       "      <td>9.951722e+05</td>\n",
       "      <td>60748.114485</td>\n",
       "      <td>56388.379831</td>\n",
       "      <td>485146.004543</td>\n",
       "      <td>787034.220056</td>\n",
       "      <td>681986.652807</td>\n",
       "    </tr>\n",
       "    <tr>\n",
       "      <th>CN</th>\n",
       "      <td>75089.456812</td>\n",
       "      <td>126252.898587</td>\n",
       "      <td>142695.130485</td>\n",
       "      <td>0.000000</td>\n",
       "      <td>65032.030337</td>\n",
       "      <td>93807.359104</td>\n",
       "      <td>140150.346515</td>\n",
       "      <td>61499.890856</td>\n",
       "      <td>59974.485308</td>\n",
       "      <td>122032.323105</td>\n",
       "      <td>...</td>\n",
       "      <td>178309.246185</td>\n",
       "      <td>392481.785328</td>\n",
       "      <td>286040.263043</td>\n",
       "      <td>9.753584e+05</td>\n",
       "      <td>9.664621e+05</td>\n",
       "      <td>188693.977741</td>\n",
       "      <td>184408.339360</td>\n",
       "      <td>505655.093827</td>\n",
       "      <td>792183.895002</td>\n",
       "      <td>571719.411574</td>\n",
       "    </tr>\n",
       "    <tr>\n",
       "      <th>AT</th>\n",
       "      <td>66013.109417</td>\n",
       "      <td>71885.736913</td>\n",
       "      <td>81498.403249</td>\n",
       "      <td>65032.030337</td>\n",
       "      <td>0.000000</td>\n",
       "      <td>38109.154298</td>\n",
       "      <td>113623.128013</td>\n",
       "      <td>107727.851719</td>\n",
       "      <td>66713.667303</td>\n",
       "      <td>87009.159807</td>\n",
       "      <td>...</td>\n",
       "      <td>116550.691175</td>\n",
       "      <td>354795.447588</td>\n",
       "      <td>253236.035636</td>\n",
       "      <td>9.632039e+05</td>\n",
       "      <td>9.604298e+05</td>\n",
       "      <td>135247.513087</td>\n",
       "      <td>119402.296502</td>\n",
       "      <td>475326.490007</td>\n",
       "      <td>770212.040591</td>\n",
       "      <td>608252.452104</td>\n",
       "    </tr>\n",
       "  </tbody>\n",
       "</table>\n",
       "<p>5 rows × 107 columns</p>\n",
       "</div>"
      ],
      "text/plain": [
       "              TO             VC             NO             CN            AT  \\\n",
       "TO      0.000000   73748.725071   99032.665905   75089.456812  66013.109417   \n",
       "VC  73748.725071       0.000000   27207.402222  126252.898587  71885.736913   \n",
       "NO  99032.665905   27207.402222       0.000000  142695.130485  81498.403249   \n",
       "CN  75089.456812  126252.898587  142695.130485       0.000000  65032.030337   \n",
       "AT  66013.109417   71885.736913   81498.403249   65032.030337      0.000000   \n",
       "\n",
       "               AL             AO             IM             SV             GE  \\\n",
       "TO  102811.221561   65229.743778  136288.448979  117221.967135  152920.096827   \n",
       "VC   85145.944878   68126.505712  178153.464645  138214.050435  137629.880137   \n",
       "NO   82132.054676   92816.959352  189100.504980  143948.022077  129687.544049   \n",
       "CN   93807.359104  140150.346515   61499.890856   59974.485308  122032.323105   \n",
       "AT   38109.154298  113623.128013  107727.851719   66713.667303   87009.159807   \n",
       "\n",
       "    ...             LO             RN             PO            KR  \\\n",
       "TO  ...  168526.694235  419755.514546  319119.082993  1.028038e+06   \n",
       "VC  ...  112084.292779  379061.349971  287434.895103  1.007824e+06   \n",
       "NO  ...   88367.069252  357334.982859  269153.344129  9.908553e+05   \n",
       "CN  ...  178309.246185  392481.785328  286040.263043  9.753584e+05   \n",
       "AT  ...  116550.691175  354795.447588  253236.035636  9.632039e+05   \n",
       "\n",
       "              VV             VB             MB             FM             BT  \\\n",
       "TO  1.023837e+06  126497.664528  153312.559156  541176.533567  836162.599867   \n",
       "VC  1.010117e+06   63671.523009   83592.355456  505787.760994  806570.397572   \n",
       "NO  9.951722e+05   60748.114485   56388.379831  485146.004543  787034.220056   \n",
       "CN  9.664621e+05  188693.977741  184408.339360  505655.093827  792183.895002   \n",
       "AT  9.604298e+05  135247.513087  119402.296502  475326.490007  770212.040591   \n",
       "\n",
       "               SU  \n",
       "TO  646728.436027  \n",
       "VC  679564.334085  \n",
       "NO  681986.652807  \n",
       "CN  571719.411574  \n",
       "AT  608252.452104  \n",
       "\n",
       "[5 rows x 107 columns]"
      ]
     },
     "execution_count": 90,
     "metadata": {},
     "output_type": "execute_result"
    }
   ],
   "source": [
    "dist_df.head()"
   ]
  },
  {
   "cell_type": "code",
   "execution_count": 75,
   "id": "b6ab6535",
   "metadata": {},
   "outputs": [],
   "source": [
    "distance_df = dist_df.unstack().reset_index()\n",
    "distance_df = distance_df.rename(columns={'level_0':'origin','level_1':'destination',0:'distance'})"
   ]
  },
  {
   "cell_type": "code",
   "execution_count": 76,
   "id": "00ec64fb",
   "metadata": {},
   "outputs": [],
   "source": [
    "distance_df['pop orig'] = distance_df['origin'].apply(lambda x: pop_dict[x])\n",
    "distance_df['pop dest'] = distance_df['destination'].apply(lambda x: pop_dict[x])\n",
    "\n",
    "distance_df = distance_df[(distance_df['pop orig']>0) & (distance_df['pop dest']>0)]"
   ]
  },
  {
   "cell_type": "markdown",
   "id": "12dd25ae",
   "metadata": {},
   "source": [
    "### Use your gravity model to generate flows with the WorldPop data"
   ]
  },
  {
   "cell_type": "code",
   "execution_count": 165,
   "id": "1c055db1",
   "metadata": {},
   "outputs": [
    {
     "name": "stderr",
     "output_type": "stream",
     "text": [
      "/var/folders/q5/29y9rnzj2_3f5fwgkltpph4h0000gn/T/ipykernel_23510/1195155690.py:12: FutureWarning: Series.__getitem__ treating keys as positions is deprecated. In a future version, integer keys will always be treated as labels (consistent with DataFrame behavior). To access a value by position, use `ser.iloc[pos]`\n",
      "  distance_df['gravity model pow'] = distance_df[['pop orig','pop dest','distance']].apply(lambda x: Gravity_pow(x[0],x[1],x[2],alpha,beta,gamma), axis=1)\n",
      "/var/folders/q5/29y9rnzj2_3f5fwgkltpph4h0000gn/T/ipykernel_23510/1195155690.py:7: RuntimeWarning: divide by zero encountered in scalar divide\n",
      "  return (x**alpha * y**beta) / (d**gamma)\n",
      "/var/folders/q5/29y9rnzj2_3f5fwgkltpph4h0000gn/T/ipykernel_23510/1195155690.py:13: FutureWarning: Series.__getitem__ treating keys as positions is deprecated. In a future version, integer keys will always be treated as labels (consistent with DataFrame behavior). To access a value by position, use `ser.iloc[pos]`\n",
      "  distance_df['gravity model exp'] = distance_df[['pop orig','pop dest','distance']].apply(lambda x: Gravity_exp(x[0],x[1],x[2],alpha,beta,d0), axis=1)\n"
     ]
    }
   ],
   "source": [
    "\n",
    "# Gravity Model Function\n",
    "alpha=1\n",
    "beta=1\n",
    "gamma=.4\n",
    "d0=10000 #meters\n",
    "def Gravity_pow(x, y, d, alpha, beta, gamma):\n",
    "    return (x**alpha * y**beta) / (d**gamma)\n",
    "\n",
    "def Gravity_exp(x, y, d, alpha, beta, d0):\n",
    "    return x**alpha * y**beta * np.exp(-d/d0)\n",
    "\n",
    "distance_df['gravity model pow'] = distance_df[['pop orig','pop dest','distance']].apply(lambda x: Gravity_pow(x[0],x[1],x[2],alpha,beta,gamma), axis=1)\n",
    "distance_df['gravity model exp'] = distance_df[['pop orig','pop dest','distance']].apply(lambda x: Gravity_exp(x[0],x[1],x[2],alpha,beta,d0), axis=1)\n",
    "\n",
    "distance_df.replace([np.inf, -np.inf], np.nan, inplace=True)"
   ]
  },
  {
   "cell_type": "code",
   "execution_count": 183,
   "id": "f6cf6a1a-8dbf-45a3-a96a-9ffc98e8e899",
   "metadata": {},
   "outputs": [
    {
     "data": {
      "text/html": [
       "<div>\n",
       "<style scoped>\n",
       "    .dataframe tbody tr th:only-of-type {\n",
       "        vertical-align: middle;\n",
       "    }\n",
       "\n",
       "    .dataframe tbody tr th {\n",
       "        vertical-align: top;\n",
       "    }\n",
       "\n",
       "    .dataframe thead th {\n",
       "        text-align: right;\n",
       "    }\n",
       "</style>\n",
       "<table border=\"1\" class=\"dataframe\">\n",
       "  <thead>\n",
       "    <tr style=\"text-align: right;\">\n",
       "      <th></th>\n",
       "      <th>origin</th>\n",
       "      <th>destination</th>\n",
       "      <th>distance</th>\n",
       "      <th>pop orig</th>\n",
       "      <th>pop dest</th>\n",
       "      <th>gravity model pow</th>\n",
       "      <th>gravity model exp</th>\n",
       "      <th>p_ij pow</th>\n",
       "      <th>p_ij exp</th>\n",
       "    </tr>\n",
       "  </thead>\n",
       "  <tbody>\n",
       "    <tr>\n",
       "      <th>0</th>\n",
       "      <td>TO</td>\n",
       "      <td>TO</td>\n",
       "      <td>0.000000</td>\n",
       "      <td>2207873</td>\n",
       "      <td>2207873</td>\n",
       "      <td>NaN</td>\n",
       "      <td>4.874703e+12</td>\n",
       "      <td>NaN</td>\n",
       "      <td>2.207873e+06</td>\n",
       "    </tr>\n",
       "    <tr>\n",
       "      <th>1</th>\n",
       "      <td>TO</td>\n",
       "      <td>VC</td>\n",
       "      <td>73748.725071</td>\n",
       "      <td>2207873</td>\n",
       "      <td>165878</td>\n",
       "      <td>4.136767e+09</td>\n",
       "      <td>2.295601e+08</td>\n",
       "      <td>1873.643599</td>\n",
       "      <td>1.039734e+02</td>\n",
       "    </tr>\n",
       "    <tr>\n",
       "      <th>2</th>\n",
       "      <td>TO</td>\n",
       "      <td>NO</td>\n",
       "      <td>99032.665905</td>\n",
       "      <td>2207873</td>\n",
       "      <td>364478</td>\n",
       "      <td>8.078561e+09</td>\n",
       "      <td>4.024495e+07</td>\n",
       "      <td>3658.979120</td>\n",
       "      <td>1.822793e+01</td>\n",
       "    </tr>\n",
       "    <tr>\n",
       "      <th>3</th>\n",
       "      <td>TO</td>\n",
       "      <td>CN</td>\n",
       "      <td>75089.456812</td>\n",
       "      <td>2207873</td>\n",
       "      <td>581676</td>\n",
       "      <td>1.440203e+10</td>\n",
       "      <td>7.039820e+08</td>\n",
       "      <td>6523.032766</td>\n",
       "      <td>3.188508e+02</td>\n",
       "    </tr>\n",
       "    <tr>\n",
       "      <th>4</th>\n",
       "      <td>TO</td>\n",
       "      <td>AT</td>\n",
       "      <td>66013.109417</td>\n",
       "      <td>2207873</td>\n",
       "      <td>207310</td>\n",
       "      <td>5.404335e+09</td>\n",
       "      <td>6.218440e+08</td>\n",
       "      <td>2447.756293</td>\n",
       "      <td>2.816484e+02</td>\n",
       "    </tr>\n",
       "  </tbody>\n",
       "</table>\n",
       "</div>"
      ],
      "text/plain": [
       "  origin destination      distance  pop orig  pop dest  gravity model pow  \\\n",
       "0     TO          TO      0.000000   2207873   2207873                NaN   \n",
       "1     TO          VC  73748.725071   2207873    165878       4.136767e+09   \n",
       "2     TO          NO  99032.665905   2207873    364478       8.078561e+09   \n",
       "3     TO          CN  75089.456812   2207873    581676       1.440203e+10   \n",
       "4     TO          AT  66013.109417   2207873    207310       5.404335e+09   \n",
       "\n",
       "   gravity model exp     p_ij pow      p_ij exp  \n",
       "0       4.874703e+12          NaN  2.207873e+06  \n",
       "1       2.295601e+08  1873.643599  1.039734e+02  \n",
       "2       4.024495e+07  3658.979120  1.822793e+01  \n",
       "3       7.039820e+08  6523.032766  3.188508e+02  \n",
       "4       6.218440e+08  2447.756293  2.816484e+02  "
      ]
     },
     "execution_count": 183,
     "metadata": {},
     "output_type": "execute_result"
    }
   ],
   "source": [
    "distance_df.head()"
   ]
  },
  {
   "cell_type": "code",
   "execution_count": 228,
   "id": "79c6882b-145c-4870-8d08-2db489988854",
   "metadata": {},
   "outputs": [
    {
     "data": {
      "text/plain": [
       "array([[0.00000000e+00, 4.13676711e+09, 8.07856121e+09, ...,\n",
       "        1.87765136e+09, 3.55543818e+09, 3.44544549e+09],\n",
       "       [4.13676711e+09, 0.00000000e+00, 1.01761917e+09, ...,\n",
       "        1.44936548e+08, 2.70998706e+08, 2.53779558e+08],\n",
       "       [8.07856121e+09, 1.01761917e+09, 0.00000000e+00, ...,\n",
       "        3.23816359e+08, 6.01324933e+08, 5.56827976e+08],\n",
       "       ...,\n",
       "       [1.87765136e+09, 1.44936548e+08, 3.23816359e+08, ...,\n",
       "        0.00000000e+00, 4.03470776e+08, 2.75669350e+08],\n",
       "       [3.55543818e+09, 2.70998706e+08, 6.01324933e+08, ...,\n",
       "        4.03470776e+08, 0.00000000e+00, 5.88379388e+08],\n",
       "       [3.44544549e+09, 2.53779558e+08, 5.56827976e+08, ...,\n",
       "        2.75669350e+08, 5.88379388e+08, 0.00000000e+00]])"
      ]
     },
     "execution_count": 228,
     "metadata": {},
     "output_type": "execute_result"
    }
   ],
   "source": [
    "res_df = distance_df.groupby(['origin','destination'])['gravity model pow'].sum().to_frame()\n",
    "res_df = res_df.reindex(level=0, labels=places).reindex(level=1, labels=places).unstack()\n",
    "res_matrix = res_df.to_numpy()\n",
    "res_matrix"
   ]
  },
  {
   "cell_type": "code",
   "execution_count": 229,
   "id": "2671fad8-e900-4c12-bc92-8bb6a3874621",
   "metadata": {},
   "outputs": [
    {
     "data": {
      "image/png": "[encoded data removed]",
      "text/plain": [
       "<Figure size 640x480 with 1 Axes>"
      ]
     },
     "metadata": {},
     "output_type": "display_data"
    }
   ],
   "source": [
    "plt.loglog(res_matrix.flatten(),OD_matrix.flatten(),'o', lw=0);\n"
   ]
  },
  {
   "cell_type": "markdown",
   "id": "afe5da27",
   "metadata": {},
   "source": [
    "### Use your radiation model to generate flows with the WorldPop data"
   ]
  },
  {
   "cell_type": "code",
   "execution_count": 230,
   "id": "47e969e4",
   "metadata": {},
   "outputs": [
    {
     "name": "stdout",
     "output_type": "stream",
     "text": [
      "TO\n",
      "VC\n",
      "NO\n",
      "CN\n",
      "AT\n",
      "AL\n",
      "AO\n",
      "IM\n",
      "SV\n",
      "GE\n",
      "SP\n",
      "VA\n",
      "CO\n",
      "SO\n",
      "MI\n",
      "BG\n",
      "BS\n",
      "PV\n",
      "CR\n",
      "MN\n",
      "BZ\n",
      "TN\n",
      "VR\n",
      "VI\n",
      "BL\n",
      "TV\n",
      "VE\n",
      "PD\n",
      "RO\n",
      "UD\n",
      "GO\n",
      "TS\n",
      "PC\n",
      "PR\n",
      "RE\n",
      "MO\n",
      "BO\n",
      "FE\n",
      "RA\n",
      "FC\n",
      "PU\n",
      "AN\n",
      "MC\n",
      "AP\n",
      "MS\n",
      "LU\n",
      "PT\n",
      "FI\n",
      "LI\n",
      "PI\n",
      "AR\n",
      "SI\n",
      "GR\n",
      "PG\n",
      "TR\n",
      "VT\n",
      "RI\n",
      "RM\n",
      "LT\n",
      "FR\n",
      "CE\n",
      "BN\n",
      "NA\n",
      "AV\n",
      "SA\n",
      "AQ\n",
      "TE\n",
      "PE\n",
      "CH\n",
      "CB\n",
      "FG\n",
      "BA\n",
      "TA\n",
      "BR\n",
      "LE\n",
      "PZ\n",
      "MT\n",
      "CS\n",
      "CZ\n",
      "RC\n",
      "TP\n",
      "PA\n",
      "ME\n",
      "AG\n",
      "CL\n",
      "EN\n",
      "CT\n",
      "RG\n",
      "SR\n",
      "SS\n",
      "NU\n",
      "CA\n",
      "PN\n",
      "IS\n",
      "OR\n",
      "BI\n",
      "LC\n",
      "LO\n",
      "RN\n",
      "PO\n",
      "KR\n",
      "VV\n",
      "VB\n",
      "MB\n",
      "FM\n",
      "BT\n",
      "SU\n"
     ]
    }
   ],
   "source": [
    "def get_s(origin,destination):\n",
    "    df_orig = distance_df[(distance_df.origin==origin)]\n",
    "    distance = distance_df[(distance_df.origin==origin)&(distance_df.destination==destination)].distance.values[0]\n",
    "    loc_s = set(df_orig[df_orig['distance']<distance]['destination'].values)\n",
    "    pop_s = pop_df[pop_df.Location.isin(loc_s)]['Population'].sum()\n",
    "    return pop_s\n",
    "        \n",
    "    \n",
    "pops_s = []\n",
    "for i in distance_df.origin.unique():\n",
    "    print(i)\n",
    "    for j in distance_df.destination.unique():\n",
    "        if j>=i:\n",
    "            pops_s.append([i,j,get_s(i,j)])\n",
    "            pops_s.append([j,i,get_s(i,j)])"
   ]
  },
  {
   "cell_type": "code",
   "execution_count": 231,
   "id": "1e5a6a33",
   "metadata": {},
   "outputs": [],
   "source": [
    "pop_s = pd.DataFrame(pops_s, columns=['origin','destination','s'])"
   ]
  },
  {
   "cell_type": "code",
   "execution_count": 244,
   "id": "1efad5f8",
   "metadata": {},
   "outputs": [],
   "source": [
    "new_df = pd.merge(\n",
    "    left=distance_df, \n",
    "    right=pop_s,\n",
    "    how='left',\n",
    "    left_on=['origin', 'destination'],\n",
    "    right_on=['origin', 'destination']\n",
    ")"
   ]
  },
  {
   "cell_type": "code",
   "execution_count": 245,
   "id": "e137afe0",
   "metadata": {},
   "outputs": [
    {
     "name": "stderr",
     "output_type": "stream",
     "text": [
      "/var/folders/q5/29y9rnzj2_3f5fwgkltpph4h0000gn/T/ipykernel_23510/2206042534.py:6: FutureWarning: Series.__getitem__ treating keys as positions is deprecated. In a future version, integer keys will always be treated as labels (consistent with DataFrame behavior). To access a value by position, use `ser.iloc[pos]`\n",
      "  new_df['Radiation model'] = new_df[['pop orig','pop dest','s']].apply(lambda x: radiation_model(x[0],x[1],x[2]),axis=1)\n"
     ]
    }
   ],
   "source": [
    "\n",
    "# Radiation Model Function\n",
    "def radiation_model(pop_i, pop_j, pop_s):\n",
    "    return pop_i * (pop_i * pop_j / ((pop_i + pop_s) * (pop_i + pop_j + pop_s)))\n",
    "        \n",
    "\n",
    "new_df['Radiation model'] = new_df[['pop orig','pop dest','s']].apply(lambda x: radiation_model(x[0],x[1],x[2]),axis=1)\n"
   ]
  },
  {
   "cell_type": "code",
   "execution_count": 246,
   "id": "cdc01785",
   "metadata": {},
   "outputs": [],
   "source": [
    "new_df = new_df.groupby(['origin','destination'])['Radiation model'].sum().to_frame()\n",
    "new_df = new_df.reindex(level=0, labels=places).reindex(level=1, labels=places).unstack()\n",
    "new_matrix = new_df.to_numpy()\n"
   ]
  },
  {
   "cell_type": "code",
   "execution_count": 252,
   "id": "8ae8ea20",
   "metadata": {},
   "outputs": [
    {
     "data": {
      "text/plain": [
       "Text(0.5, 0, 'modelled trips')"
      ]
     },
     "execution_count": 252,
     "metadata": {},
     "output_type": "execute_result"
    },
    {
     "data": {
      "image/png": "[encoded data removed]",
      "text/plain": [
       "<Figure size 640x480 with 1 Axes>"
      ]
     },
     "metadata": {},
     "output_type": "display_data"
    }
   ],
   "source": [
    "plt.loglog(new_matrix.flatten(),OD_matrix.flatten(),'o', lw=0, markersize=1);\n",
    "plt.loglog([100,1000000],[100,1000000], lw=3, ls='--')\n",
    "plt.ylabel('observed trips')\n",
    "plt.xlabel('modelled trips')"
   ]
  },
  {
   "cell_type": "code",
   "execution_count": null,
   "id": "04755691-2180-4614-9040-4720b5dd98e4",
   "metadata": {},
   "outputs": [],
   "source": []
  },
  {
   "cell_type": "code",
   "execution_count": null,
   "id": "9d6e12ed-b6e6-4479-9321-694b06b14d6b",
   "metadata": {},
   "outputs": [],
   "source": []
  }
 ],
 "metadata": {
  "kernelspec": {
   "display_name": "Python 3 (ipykernel)",
   "language": "python",
   "name": "python3"
  },
  "language_info": {
   "codemirror_mode": {
    "name": "ipython",
    "version": 3
   },
   "file_extension": ".py",
   "mimetype": "text/x-python",
   "name": "python",
   "nbconvert_exporter": "python",
   "pygments_lexer": "ipython3",
   "version": "3.12.11"
  }
 },
 "nbformat": 4,
 "nbformat_minor": 5
}
