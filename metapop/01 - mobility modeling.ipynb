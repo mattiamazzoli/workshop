{
 "cells": [
  {
   "cell_type": "code",
   "execution_count": null,
   "id": "93f514fb-ea1b-4e22-9c24-5a160111e35d",
   "metadata": {},
   "outputs": [],
   "source": [
    "from matplotlib import *\n",
    "from __future__ import division\n",
    "import numpy as np\n",
    "from matplotlib import pyplot as plt\n",
    "import pandas as pd\n",
    "import geopandas as gpd\n",
    "import matplotlib.pyplot as plt\n",
    "import matplotlib.cm as cm\n",
    "from sklearn.metrics.pairwise import pairwise_distances\n"
   ]
  },
  {
   "cell_type": "markdown",
   "id": "27606ac7",
   "metadata": {},
   "source": [
    "## create fake populations and distances"
   ]
  },
  {
   "cell_type": "code",
   "execution_count": null,
   "id": "b7b615fb",
   "metadata": {},
   "outputs": [],
   "source": [
    "\n",
    "# Sample Data: Population of locations (Replace with WorldPop data)\n",
    "locations = ['A', 'B', 'C', 'D', 'E']\n",
    "population = [10000, 5000, 20000, 15000, 12000]\n",
    "distances = {\n",
    "    ('A', 'B'): 10, ('A', 'C'): 30, ('A', 'D'): 50, ('A', 'E'): 70,\n",
    "    ('B', 'C'): 20, ('B', 'D'): 40, ('B', 'E'): 60,\n",
    "    ('C', 'D'): 15, ('C', 'E'): 35,\n",
    "    ('D', 'E'): 25\n",
    "}\n",
    "\n",
    "# Convert to DataFrame\n",
    "pop_df = pd.DataFrame({'Location': locations, 'Population': population})\n",
    "dist_df = pd.DataFrame([(k[0], k[1], v) for k, v in distances.items()], columns=['From', 'To', 'Distance'])\n"
   ]
  },
  {
   "cell_type": "markdown",
   "id": "22ab2c5a",
   "metadata": {},
   "source": [
    "## Build your Gravity Model "
   ]
  },
  {
   "cell_type": "markdown",
   "id": "7601cf94",
   "metadata": {},
   "source": [
    "The number of trips occurring from i to j are inversely proportional to the distance between i and j, where masses of origin and destination are the respective populations.\n",
    "\n",
    "<div class=\"alert alert-info\" style=\"font-size:120%\">\n",
    "\n",
    "\n",
    "The form with the power law deterrence functions is written as:  \n",
    "$\\Large T_{ij} = K \\frac{m_i^\\alpha m_j^\\beta}{d^\\gamma}$\n",
    "\n",
    "The form with the exponential deterrence functions is written as:  \n",
    "$\\Large T_{ij} = K m_i^\\alpha m_j^\\beta e^{-d/d_0}$\n",
    "\n",
    "</div>\n",
    "\n",
    "where $\\alpha$ and $\\beta$ modulate the attractiveness of masses  \n",
    "$\\gamma$ regulates the decay of the gravity force with distance  \n",
    "and $d_0$ represents the typical distance travelled by individuals"
   ]
  },
  {
   "cell_type": "markdown",
   "id": "3fbb27e6",
   "metadata": {},
   "source": [
    "### create a table containing the two gravity models predicted flows between i and j"
   ]
  },
  {
   "cell_type": "code",
   "execution_count": null,
   "id": "eb9bf49b",
   "metadata": {},
   "outputs": [],
   "source": [
    "\n",
    "def gravity_model(pop_df, dist_df, alpha=1, beta=1):\n",
    "    flows = []\n",
    "    for _, row in dist_df.iterrows():\n",
    "        pop_i = pop_df.loc[pop_df['Location'] == row['From'], 'Population'].values[0]\n",
    "        pop_j = pop_df.loc[pop_df['Location'] == row['To'], 'Population'].values[0]\n",
    "        distance = row['Distance']\n",
    "        flow = (pop_i ** alpha * pop_j ** beta) / (distance ** 2)\n",
    "        flows.append(flow)\n",
    "    dist_df['Gravity Flow'] = flows\n",
    "    return dist_df\n",
    "\n",
    "def gravity_model_exp(pop_df, dist_df, alpha=1, beta=1):\n",
    "    flows = []\n",
    "    for _, row in dist_df.iterrows():\n",
    "        pop_i = pop_df.loc[pop_df['Location'] == row['From'], 'Population'].values[0]\n",
    "        pop_j = pop_df.loc[pop_df['Location'] == row['To'], 'Population'].values[0]\n",
    "        distance = row['Distance']\n",
    "        flow = (pop_i ** alpha * pop_j ** beta) * np.exp(-distance/d0)\n",
    "        flows.append(flow)\n",
    "    dist_df['Gravity Flow Exp'] = flows\n",
    "    return dist_df\n",
    "\n",
    "alpha=1\n",
    "beta=1\n",
    "d0=5000\n",
    "gravity_results = gravity_model(pop_df, dist_df)\n",
    "gravity_results = gravity_model_exp(pop_df, dist_df)\n",
    "\n",
    "print(\"Gravity Model Results:\")\n",
    "print(gravity_results)\n"
   ]
  },
  {
   "cell_type": "markdown",
   "id": "c96163e8",
   "metadata": {},
   "source": [
    "## Build your Radiation Model"
   ]
  },
  {
   "cell_type": "markdown",
   "id": "60278800",
   "metadata": {},
   "source": [
    "<div class=\"alert alert-info\" style=\"font-size:120%\">\n",
    "\n",
    "The number of trips occurring from i to j is controlled by the formula\n",
    "\n",
    "\n",
    "$\\Large T_{ij} = T_i \\frac{(m_i m_j)}{(m_i + s_{ij})(m_i + m_j + s_{ij})}$\n",
    "\n",
    "</div>\n",
    "\n",
    "where $m_i$ and $m_j$ are the populations of i and j and $s_{ij}$ is the intervening population\n"
   ]
  },
  {
   "cell_type": "markdown",
   "id": "cc6e1cdf",
   "metadata": {},
   "source": [
    "### Add the radiation model predicted flows to the table of results"
   ]
  },
  {
   "cell_type": "code",
   "execution_count": null,
   "id": "d00fcedf",
   "metadata": {},
   "outputs": [],
   "source": [
    "\n",
    "def radiation_model(pop_df, dist_df):\n",
    "    flows = []\n",
    "    for _, row in dist_df.iterrows():\n",
    "        pop_i = pop_df.loc[pop_df['Location'] == row['From'], 'Population'].values[0]\n",
    "        pop_j = pop_df.loc[pop_df['Location'] == row['To'], 'Population'].values[0]\n",
    "        distance = dist_df[(dist_df.From==row['From'])&(dist_df.To==row['To'])].Distance\n",
    "        loc_s = set(dist_df[dist_df.From==row['From']].groupby(['To']).filter(lambda x:(x['Distance'].max()<distance)&(x['Distance'].max()>0))['To'].values)\n",
    "        pop_s = pop_df[pop_df.Location.isin(loc_s)]['Population'].sum()\n",
    "        flow = pop_i * (pop_i * pop_j / ((pop_i + pop_s) * (pop_i + pop_j + pop_s)))\n",
    "        flows.append(flow)\n",
    "    dist_df['Radiation Flow'] = flows\n",
    "    return dist_df\n",
    "\n",
    "radiation_results = radiation_model(pop_df, dist_df)\n",
    "print(\"\\nRadiation Model Results:\")\n",
    "print(radiation_results)\n"
   ]
  },
  {
   "cell_type": "markdown",
   "id": "ec3498c0",
   "metadata": {},
   "source": [
    "## Now model the mobility between Italian provinces  \n",
    "population from https://demo.istat.it/app/?i=POS "
   ]
  },
  {
   "cell_type": "code",
   "execution_count": null,
   "id": "46f1f591-10ad-425d-b7f1-c6d46c8afad9",
   "metadata": {},
   "outputs": [],
   "source": [
    "pops = pd.read_csv('../data/id_provinces_it.csv').drop(['Unnamed: 0'],axis=1)\n",
    "#things happen... 'NA' stands for Napoli (Naples), but geopandas reads it as nan...\n",
    "pops = pops.fillna('NA')\n",
    "pops.set_index('COD_PROV',inplace=True)\n",
    "pops.head()"
   ]
  },
  {
   "cell_type": "code",
   "execution_count": null,
   "id": "a778ade2-9067-4d41-96b7-52484dc4f9d8",
   "metadata": {},
   "outputs": [],
   "source": [
    "pop_prov = pd.read_csv('../data/Popolazione residente.csv')\n",
    "pop_prov = pop_prov[['Codice provincia', 'Totale']]\n",
    "pop_prov.set_index('Codice provincia', inplace=True)\n",
    "pop_prov.head()"
   ]
  },
  {
   "cell_type": "code",
   "execution_count": null,
   "id": "0f95144e-8829-4db1-b037-8834640a4cea",
   "metadata": {},
   "outputs": [],
   "source": [
    "populations = pops.merge(pop_prov, how='left', left_on='COD_PROV', right_on='Codice provincia')\n",
    "#populations.to_csv('population_provinces.csv')\n",
    "len(populations)"
   ]
  },
  {
   "cell_type": "code",
   "execution_count": null,
   "id": "7107ff2b-fc26-481c-9cee-dc7b619b6f35",
   "metadata": {},
   "outputs": [],
   "source": [
    "places = populations.SIGLA"
   ]
  },
  {
   "cell_type": "markdown",
   "id": "8775e962",
   "metadata": {},
   "source": [
    "Get mobility data from https://data.humdata.org/dataset/covid-19-mobility-italy   \n",
    "paper https://www.nature.com/articles/s41597-020-00575-2   \n",
    "mobility matrix, already normalized across columns => outflows sum to 1 for each patch"
   ]
  },
  {
   "cell_type": "code",
   "execution_count": null,
   "id": "d68f7e7f",
   "metadata": {},
   "outputs": [],
   "source": [
    "OD = pd.read_csv('../data/od_matrix_daily_flows_norm_full_2020_01_18_2020_06_26.csv')\n",
    "\n",
    "#from dataframe, create matrix filling empty positions\n",
    "P = OD.sort_values(['p1','p2']).groupby(['p1','p2']).sum().unstack().fillna(0)\n",
    "P = P['2020-01-29'].to_numpy()"
   ]
  },
  {
   "cell_type": "markdown",
   "id": "12352936-3a85-496e-853a-2537993ecde4",
   "metadata": {},
   "source": [
    "<div class=\"alert alert-block alert-warning\" style=\"font-size:120%\">\n",
    "\n",
    "**ATTENTION**  \n",
    "the mobility matrix encodes transition probabilities was computed on population samples that are not equal to the total populations  \n",
    "\n",
    "we need to project these probabilities into real provinces population, to do this we will:\n",
    "\n",
    "* project probabilities to total trips using official population estimates from census\n",
    "* make the matrix symmetric, assume all trips are round trips\n",
    "\n",
    "</div>"
   ]
  },
  {
   "cell_type": "code",
   "execution_count": null,
   "id": "2b83c8b7-3f6e-4748-9c88-7862c8f85b66",
   "metadata": {},
   "outputs": [],
   "source": [
    "# retrieve total flows from origins\n",
    "p2 = P*np.array(populations.Totale)\n",
    "\n",
    "# the original matrix is directed, make it symmetric or populations will be mixed!\n",
    "OD_matrix = np.round((p2+p2.T)/2)"
   ]
  },
  {
   "cell_type": "markdown",
   "id": "184c36d4-756f-4628-85b9-488d28a5278d",
   "metadata": {},
   "source": [
    "download shapefile of italian provinces from https://public.opendatasoft.com/explore/dataset/georef-italy-provincia/information/"
   ]
  },
  {
   "cell_type": "code",
   "execution_count": null,
   "id": "f6a90bce-0a0a-43b3-87f8-95bc1bcdaed4",
   "metadata": {},
   "outputs": [],
   "source": [
    "map_prov = gpd.read_file('../data/georef-italy-provincia/georef-italy-provincia-millesime.shp')\n",
    "map_prov = map_prov[['prov_sigla','geometry']]\n",
    "map_prov = map_prov.to_crs(epsg=3003)\n",
    "map_prov.plot(edgecolor='w',facecolor='lightblue',lw=.2)\n",
    "plt.axis('off')"
   ]
  },
  {
   "cell_type": "code",
   "execution_count": null,
   "id": "bec097bb-7c21-4b5e-a17b-632bd4305f5f",
   "metadata": {},
   "outputs": [],
   "source": [
    "#reorder to match order of data\n",
    "map_prov = map_prov.set_index(\"prov_sigla\")\n",
    "map_prov = map_prov.reindex(places)\n",
    "map_prov = map_prov.reset_index()\n"
   ]
  },
  {
   "cell_type": "code",
   "execution_count": null,
   "id": "1f3a0759-b456-4872-98bc-6743420d2c7e",
   "metadata": {},
   "outputs": [],
   "source": [
    "map_prov.head()"
   ]
  },
  {
   "cell_type": "markdown",
   "id": "c0e7b3dc-5309-446d-9499-9f0566d86e40",
   "metadata": {},
   "source": [
    "remember how we computed the centroid for polygons in geopandas?"
   ]
  },
  {
   "cell_type": "code",
   "execution_count": null,
   "id": "5e7482c6-b483-45cd-ac1a-4c93b44a498e",
   "metadata": {},
   "outputs": [],
   "source": [
    "map_prov['centroid'] = map_prov.centroid\n",
    "ax=map_prov.plot( linewidth=.5, edgecolor='w', color='lightblue')\n",
    "map_prov['centroid'].plot(color='k',ax=ax, markersize=1)\n",
    "ax.axis('off')\n",
    "plt.show()"
   ]
  },
  {
   "cell_type": "code",
   "execution_count": null,
   "id": "69f19a9c-882f-4fd8-8c99-2518151d797b",
   "metadata": {},
   "outputs": [],
   "source": [
    "italy_prov = map_prov.merge(populations, how='left', left_on='SIGLA', right_on='SIGLA')\n",
    "italy_prov.head()"
   ]
  },
  {
   "cell_type": "code",
   "execution_count": null,
   "id": "9ec48de6-f629-4c9d-8e06-a6003e53848d",
   "metadata": {},
   "outputs": [],
   "source": [
    "italy_prov['centroid_x'] = italy_prov['centroid'].apply(lambda x: x.x)\n",
    "italy_prov['centroid_y'] = italy_prov['centroid'].apply(lambda x: x.y)"
   ]
  },
  {
   "cell_type": "markdown",
   "id": "abb109be-75aa-4879-aef9-d42becace479",
   "metadata": {},
   "source": [
    "compute distances in meters (we're in epsg 3003, Monte Mario)"
   ]
  },
  {
   "cell_type": "code",
   "execution_count": null,
   "id": "44254d2a",
   "metadata": {},
   "outputs": [],
   "source": [
    "locations = italy_prov.SIGLA.tolist()\n",
    "population = italy_prov['Totale'].tolist()\n",
    "\n",
    "distances = pairwise_distances(italy_prov[['centroid_x','centroid_y']], metric='euclidean')\n"
   ]
  },
  {
   "cell_type": "code",
   "execution_count": null,
   "id": "e85e303e-78e6-40ee-9518-414976c8de57",
   "metadata": {},
   "outputs": [],
   "source": [
    "np.diag(distances)"
   ]
  },
  {
   "cell_type": "code",
   "execution_count": null,
   "id": "a88ff916",
   "metadata": {},
   "outputs": [],
   "source": [
    "# Convert to DataFrame\n",
    "pop_df = pd.DataFrame({'Location': locations, 'Population': population})\n",
    "pop_dict = pop_df.set_index('Location')['Population'].to_dict()\n",
    "dist_df = pd.DataFrame(distances, index=locations, columns=locations)"
   ]
  },
  {
   "cell_type": "code",
   "execution_count": null,
   "id": "c5c3881a-8eec-4d5a-8918-7f6d78ff1c0f",
   "metadata": {},
   "outputs": [],
   "source": [
    "dist_df.head()"
   ]
  },
  {
   "cell_type": "code",
   "execution_count": null,
   "id": "b6ab6535",
   "metadata": {},
   "outputs": [],
   "source": [
    "distance_df = dist_df.unstack().reset_index()\n",
    "distance_df = distance_df.rename(columns={'level_0':'origin','level_1':'destination',0:'distance'})"
   ]
  },
  {
   "cell_type": "code",
   "execution_count": null,
   "id": "00ec64fb",
   "metadata": {},
   "outputs": [],
   "source": [
    "distance_df['pop orig'] = distance_df['origin'].apply(lambda x: pop_dict[x])\n",
    "distance_df['pop dest'] = distance_df['destination'].apply(lambda x: pop_dict[x])\n",
    "\n",
    "distance_df = distance_df[(distance_df['pop orig']>0) & (distance_df['pop dest']>0)]"
   ]
  },
  {
   "cell_type": "markdown",
   "id": "12dd25ae",
   "metadata": {},
   "source": [
    "### Use your gravity model to generate flows with census data"
   ]
  },
  {
   "cell_type": "code",
   "execution_count": null,
   "id": "1c055db1",
   "metadata": {},
   "outputs": [],
   "source": [
    "\n",
    "# Gravity Model Function\n",
    "alpha=1\n",
    "beta=1\n",
    "gamma=.4\n",
    "d0=10000 #meters\n",
    "def Gravity_pow(x, y, d, alpha, beta, gamma):\n",
    "    if x!=y: #avoid dividing by zero when origin=destination\n",
    "        return (x**alpha * y**beta) / (d**gamma)\n",
    "    else: return np.nan\n",
    "\n",
    "def Gravity_exp(x, y, d, alpha, beta, d0):\n",
    "    return x**alpha * y**beta * np.exp(-d/d0)\n",
    "\n",
    "distance_df['gravity model pow'] = distance_df[['pop orig','pop dest','distance']].apply(lambda x: Gravity_pow(x[0],x[1],x[2],alpha,beta,gamma), axis=1)\n",
    "distance_df['gravity model exp'] = distance_df[['pop orig','pop dest','distance']].apply(lambda x: Gravity_exp(x[0],x[1],x[2],alpha,beta,d0), axis=1)\n",
    "\n",
    "distance_df.replace([np.inf, -np.inf], np.nan, inplace=True)"
   ]
  },
  {
   "cell_type": "code",
   "execution_count": null,
   "id": "f6cf6a1a-8dbf-45a3-a96a-9ffc98e8e899",
   "metadata": {},
   "outputs": [],
   "source": [
    "distance_df.head()"
   ]
  },
  {
   "cell_type": "code",
   "execution_count": null,
   "id": "79c6882b-145c-4870-8d08-2db489988854",
   "metadata": {},
   "outputs": [],
   "source": [
    "res_df = distance_df.groupby(['origin','destination'])['gravity model pow'].sum().to_frame()\n",
    "res_df = res_df.reindex(level=0, labels=places).reindex(level=1, labels=places).unstack()\n",
    "res_matrix = res_df.to_numpy()\n",
    "res_matrix"
   ]
  },
  {
   "cell_type": "code",
   "execution_count": null,
   "id": "2671fad8-e900-4c12-bc92-8bb6a3874621",
   "metadata": {},
   "outputs": [],
   "source": [
    "plt.loglog(res_matrix.flatten(),OD_matrix.flatten(),'o', lw=0, markersize=1);\n",
    "plt.xlabel('predicted trips')\n",
    "plt.ylabel('observed trips')"
   ]
  },
  {
   "cell_type": "code",
   "execution_count": null,
   "id": "e147f565-e56a-446c-9cf8-28cb0a6f8a31",
   "metadata": {},
   "outputs": [],
   "source": [
    "res_matrix_norm = res_matrix/res_matrix.sum(axis=1,keepdims=True)\n",
    "OD_matrix_norm = OD_matrix/OD_matrix.sum(axis=1,keepdims=True)\n",
    "plt.loglog(res_matrix_norm.flatten(),OD_matrix_norm.flatten(),'o', lw=0, markersize=1);\n",
    "plt.loglog([0.00001,1],[0.00001,1], lw=3, ls='--')\n",
    "plt.ylabel('observed trips')\n",
    "plt.xlabel('modelled trips')\n",
    "plt.gca().set_aspect('equal')"
   ]
  },
  {
   "cell_type": "markdown",
   "id": "4a0384c9-a9da-40af-9e87-10e0565fed52",
   "metadata": {},
   "source": [
    "**meh!**\n",
    "\n",
    "We should fit the parameters\n",
    "\n",
    "The form with the power law deterrence functions is written as:  \n",
    "$\\Large T_{ij} = K \\frac{m_i^\\alpha m_j^\\beta}{d^\\gamma}$\n",
    "\n",
    "If we take the logarithm both left and right of this equation we can linearize the system:  \n",
    "\n",
    "$\\Large log(T_{ij}) = log(K) + \\alpha log(m_i) + \\beta log(m_j) - \\gamma log(d)$\n",
    "\n",
    "and now this is a simple linear regression! "
   ]
  },
  {
   "cell_type": "markdown",
   "id": "cd6a59d6-e10f-4a6f-90fe-26492376f300",
   "metadata": {},
   "source": [
    "Let's take the data and try to model them"
   ]
  },
  {
   "cell_type": "code",
   "execution_count": null,
   "id": "3edfc510-cd61-4357-8cb3-5803761002f0",
   "metadata": {},
   "outputs": [],
   "source": [
    "pops = pd.read_csv('../data/id_provinces_it.csv').drop(['Unnamed: 0'],axis=1)\n",
    "pops = pops.fillna('NA')\n",
    "pops.set_index('COD_PROV',inplace=True)\n",
    "pops.head()"
   ]
  },
  {
   "cell_type": "code",
   "execution_count": null,
   "id": "57af52cc-6ac8-4808-b1e1-67866d28dc04",
   "metadata": {},
   "outputs": [],
   "source": [
    "pop_prov = pd.read_csv('../data/Popolazione residente.csv')\n",
    "pop_prov = pop_prov[['Codice provincia', 'Totale']]\n",
    "pop_prov.set_index('Codice provincia', inplace=True)\n",
    "pop_prov.head()"
   ]
  },
  {
   "cell_type": "code",
   "execution_count": null,
   "id": "00ef56cb-53cb-46b0-8513-b7c87b01343f",
   "metadata": {},
   "outputs": [],
   "source": [
    "populations = pops.merge(pop_prov, how='left', left_on='COD_PROV', right_on='Codice provincia')\n",
    "#populations.to_csv('population_provinces.csv')\n",
    "populations.head()"
   ]
  },
  {
   "cell_type": "markdown",
   "id": "d4f290d1-5e72-410b-972e-4df05e976a9b",
   "metadata": {},
   "source": [
    "data from https://data.humdata.org/dataset/covid-19-mobility-italy   \n",
    "paper https://www.nature.com/articles/s41597-020-00575-2   \n",
    "mobility matrix, already normalized across columns => outflows sum to 1 for each patch"
   ]
  },
  {
   "cell_type": "code",
   "execution_count": null,
   "id": "e775cb01-1e9f-4dd7-8455-6a6cadc5d2d3",
   "metadata": {},
   "outputs": [],
   "source": [
    "OD = pd.read_csv('../data/od_matrix_daily_flows_norm_full_2020_01_18_2020_06_26.csv')\n",
    "OD.head()"
   ]
  },
  {
   "cell_type": "code",
   "execution_count": null,
   "id": "6296459f-a5d1-4d2b-a7bb-734375fa98a6",
   "metadata": {},
   "outputs": [],
   "source": [
    "new_OD = OD.sort_values(['p1','p2']).groupby(['p1','p2']).sum().reset_index()\n",
    "new_OD.head()"
   ]
  },
  {
   "cell_type": "markdown",
   "id": "cc670a72-af69-4022-96b6-f8ccc870729c",
   "metadata": {},
   "source": [
    "we have 1,2,3 describing the provinces, but we need tags (TO, VC, etc) to match our table!   \n",
    "we can use the `pops` table above, reporting numbers and tags  \n",
    "the numbers are the index of the `pops` table, so we have to use the `.loc` command in the `apply lambda` function"
   ]
  },
  {
   "cell_type": "code",
   "execution_count": null,
   "id": "596220d2-426b-4a89-bb50-5e49b9f45428",
   "metadata": {},
   "outputs": [],
   "source": [
    "new_OD['p1'] = new_OD['p1'].apply(lambda x: pops.loc[x].SIGLA)\n",
    "new_OD['p2'] = new_OD['p2'].apply(lambda x: pops.loc[x].SIGLA)"
   ]
  },
  {
   "cell_type": "code",
   "execution_count": null,
   "id": "b5efc6cb-22ed-48b7-a76b-ba0ecf8d39c9",
   "metadata": {},
   "outputs": [],
   "source": [
    "new_OD.head()"
   ]
  },
  {
   "cell_type": "markdown",
   "id": "b228a961-e91e-4da4-8da1-ab6a42d15774",
   "metadata": {},
   "source": [
    "we can choose one specific week, weeks are represented as columns, so we need to filter out all columns but our desired one  \n",
    "we can use the `drop` command listing all the columns we don't want or we can use the `[[ ]]` command to restrict the df to a list of columns"
   ]
  },
  {
   "cell_type": "code",
   "execution_count": null,
   "id": "32793053-567f-4ead-9442-3316093e62c6",
   "metadata": {},
   "outputs": [],
   "source": [
    "new_OD = new_OD[['p1','p2','2020-01-18']]\n",
    "new_OD = new_OD.rename(columns={'2020-01-18':'pij'})\n",
    "new_OD.head()"
   ]
  },
  {
   "cell_type": "markdown",
   "id": "9143352c-cfa1-4b5c-bb9e-6048687dc9bf",
   "metadata": {},
   "source": [
    "now we can merge  "
   ]
  },
  {
   "cell_type": "code",
   "execution_count": null,
   "id": "50adb146-cad5-4453-88d1-5a351b6f1a3a",
   "metadata": {},
   "outputs": [],
   "source": [
    "fit_df = distance_df.merge(new_OD, how='left', left_on=['origin','destination'], right_on=['p1','p2'])\n",
    "fit_df = fit_df.dropna()\n",
    "fit_df.head()"
   ]
  },
  {
   "cell_type": "markdown",
   "id": "af033633-4552-4de7-a019-e88a999a9959",
   "metadata": {},
   "source": [
    "transform $p_{ij}$ to trips   "
   ]
  },
  {
   "cell_type": "code",
   "execution_count": null,
   "id": "4c56200d-30c7-40cc-8e93-11249d3ead6d",
   "metadata": {},
   "outputs": [],
   "source": [
    "fit_df['trips'] = fit_df['pij']*fit_df['pop orig']"
   ]
  },
  {
   "cell_type": "code",
   "execution_count": null,
   "id": "349e014b-7ccb-4ed4-b7c4-775332169852",
   "metadata": {},
   "outputs": [],
   "source": [
    "fit_df.head()"
   ]
  },
  {
   "cell_type": "markdown",
   "id": "a8bf6129-9826-48a9-8230-15e1ade008bc",
   "metadata": {},
   "source": [
    "we have 0 observed trips in many origin-destination routes, we are not interested in reproducing them  \n",
    "we use pandas conditional filtering on the column values  "
   ]
  },
  {
   "cell_type": "code",
   "execution_count": null,
   "id": "87f951ea-078b-4557-a975-fd1e5f4fa1f8",
   "metadata": {},
   "outputs": [],
   "source": [
    "filtered_fit_df = fit_df[fit_df.trips!=0]"
   ]
  },
  {
   "cell_type": "code",
   "execution_count": null,
   "id": "9abc9e0a-6cb6-4440-a462-9d26fd7456e8",
   "metadata": {},
   "outputs": [],
   "source": [
    "from sklearn.linear_model import LinearRegression"
   ]
  },
  {
   "cell_type": "code",
   "execution_count": null,
   "id": "2c56e6c9-3c41-47e1-af19-ea43b90492eb",
   "metadata": {},
   "outputs": [],
   "source": [
    "# explanatory variables\n",
    "X = filtered_fit_df[['pop orig', 'pop dest', 'distance']].to_numpy()\n",
    "# targer variable\n",
    "y = filtered_fit_df[[\"trips\"]].to_numpy()\n"
   ]
  },
  {
   "cell_type": "markdown",
   "id": "3bd0366d-7396-4777-9b9a-e4347f98fede",
   "metadata": {},
   "source": [
    "apply the link function  "
   ]
  },
  {
   "cell_type": "code",
   "execution_count": null,
   "id": "5c58f53c-668c-40d8-9108-344165662560",
   "metadata": {},
   "outputs": [],
   "source": [
    "X = np.log(X)\n",
    "y = np.log(y)"
   ]
  },
  {
   "cell_type": "markdown",
   "id": "9ba11c07-d83f-4dc0-b160-d9730b9cd08f",
   "metadata": {},
   "source": [
    "remember that we had this equation, K is a constant that we want to fit, but it's not in the table  \n",
    "$log(T_{ij}) = log(K) + \\alpha log(m_i) + \\beta log(m_j) - \\gamma log(d)$"
   ]
  },
  {
   "cell_type": "markdown",
   "id": "f1104b76-9b4e-41e6-8d03-0afd49d9367d",
   "metadata": {},
   "source": [
    "run the linear regression and predict trips using the fitted parameters  \n",
    "we can use the `fit_intercept=True` command to treat it as the intercept of the model"
   ]
  },
  {
   "cell_type": "code",
   "execution_count": null,
   "id": "bc0ad11b-08e3-4b1f-bb8c-73feda969a5a",
   "metadata": {},
   "outputs": [],
   "source": [
    "regressor = LinearRegression(fit_intercept=True)\n",
    "regressor.fit(X, y)\n",
    "\n",
    "y_pred = regressor.predict(X)"
   ]
  },
  {
   "cell_type": "markdown",
   "id": "6f7987be-de04-49f1-a5ff-44984885b5cf",
   "metadata": {},
   "source": [
    "we used the log link function, now let's recover the original scale, so..."
   ]
  },
  {
   "cell_type": "code",
   "execution_count": null,
   "id": "8b5887dd-b23b-42a0-9ec6-80a9d7779452",
   "metadata": {},
   "outputs": [],
   "source": [
    "y_pred = np.exp(y_pred)\n",
    "y = np.exp(y)\n",
    "X = np.exp(X)"
   ]
  },
  {
   "cell_type": "markdown",
   "id": "25cc8dbd-8c61-4001-88d2-5c2dbe2dd905",
   "metadata": {},
   "source": [
    "we are curious to know what are the parameters of the fit  \n",
    "in order we had, $\\alpha$, $\\beta$, $\\gamma$"
   ]
  },
  {
   "cell_type": "code",
   "execution_count": null,
   "id": "26a9e098-eeaa-431c-afac-018e81f22dd5",
   "metadata": {},
   "outputs": [],
   "source": [
    "print('K is',np.exp(regressor.intercept_[0]),' alpha, beta and gamma are', regressor.coef_[0])"
   ]
  },
  {
   "cell_type": "markdown",
   "id": "4979a175-d604-4c1f-b457-e20e02db82d3",
   "metadata": {},
   "source": [
    "let's add the fitted trips to the table, and the predicted $p_{ij}$"
   ]
  },
  {
   "cell_type": "code",
   "execution_count": null,
   "id": "b8ba4142-9534-450e-a308-0b33bb03906e",
   "metadata": {},
   "outputs": [],
   "source": [
    "filtered_fit_df['predicted trips'] = y_pred\n",
    "filtered_fit_df.head()"
   ]
  },
  {
   "cell_type": "code",
   "execution_count": null,
   "id": "f6655536-3cb4-4788-908c-bea2f1d5e94f",
   "metadata": {},
   "outputs": [],
   "source": [
    "plt.loglog(y, y_pred,'o', lw=0, markersize=2)\n",
    "\n",
    "plt.loglog([0,.2*10**6],[0,.2*10**6], lw=1, ls='--', color='grey')\n",
    "plt.xlabel('observed trips')\n",
    "plt.ylabel('modelled trips')\n",
    "plt.gca().set_aspect('equal')\n"
   ]
  },
  {
   "cell_type": "markdown",
   "id": "fb441fc3-534b-408f-9e8a-78fb10240d53",
   "metadata": {},
   "source": [
    "it looks better, let's see the transition probabilities"
   ]
  },
  {
   "cell_type": "code",
   "execution_count": null,
   "id": "a010adb4-da26-4db7-9b0b-0f5c674139aa",
   "metadata": {},
   "outputs": [],
   "source": [
    "total_predicted_trips = filtered_fit_df.groupby('origin')['predicted trips'].sum().to_frame()\n",
    "total_predicted_trips.head()"
   ]
  },
  {
   "cell_type": "code",
   "execution_count": null,
   "id": "39248cd8-aea6-4aff-8ece-bfd17e71d831",
   "metadata": {},
   "outputs": [],
   "source": [
    "new_fit_df = filtered_fit_df.merge(total_predicted_trips, how='left', left_on='origin', right_on='origin')\n",
    "new_fit_df = new_fit_df.rename(columns={'predicted trips_y':'total predicted trips','predicted trips_x':'predicted trips'})\n",
    "new_fit_df.head()"
   ]
  },
  {
   "cell_type": "code",
   "execution_count": null,
   "id": "cc9bb1a7-dadd-436a-9d5b-db35f3b76b92",
   "metadata": {},
   "outputs": [],
   "source": [
    "new_fit_df['predicted pij'] = new_fit_df['predicted trips']/new_fit_df['total predicted trips']\n",
    "new_fit_df.head()"
   ]
  },
  {
   "cell_type": "code",
   "execution_count": null,
   "id": "9487ad45-b45b-47c3-9816-7934deea2a48",
   "metadata": {},
   "outputs": [],
   "source": [
    "plt.loglog(new_fit_df.pij, new_fit_df['predicted pij'],'o', lw=0, markersize=2)\n",
    "plt.loglog([0.001,1],[0.001,1], lw=1, ls='--', color='grey')\n",
    "plt.xlabel('observed trips')\n",
    "plt.ylabel('modelled trips')\n",
    "plt.gca().set_aspect('equal')"
   ]
  },
  {
   "cell_type": "markdown",
   "id": "afe5da27",
   "metadata": {},
   "source": [
    "### Use your radiation model to generate flows with census data"
   ]
  },
  {
   "cell_type": "code",
   "execution_count": null,
   "id": "47e969e4",
   "metadata": {},
   "outputs": [],
   "source": [
    "def get_s(origin,destination):\n",
    "    df_orig = distance_df[(distance_df.origin==origin)]\n",
    "    distance = distance_df[(distance_df.origin==origin)&(distance_df.destination==destination)].distance.values[0]\n",
    "    loc_s = set(df_orig[df_orig['distance']<distance]['destination'].values)\n",
    "    pop_s = pop_df[pop_df.Location.isin(loc_s)]['Population'].sum()\n",
    "    return pop_s\n",
    "        \n",
    "    \n",
    "pops_s = []\n",
    "for i in distance_df.origin.unique():\n",
    "    print(i)\n",
    "    for j in distance_df.destination.unique():\n",
    "        if j>=i:\n",
    "            pops_s.append([i,j,get_s(i,j)])\n",
    "            pops_s.append([j,i,get_s(i,j)])"
   ]
  },
  {
   "cell_type": "code",
   "execution_count": null,
   "id": "1e5a6a33",
   "metadata": {},
   "outputs": [],
   "source": [
    "pop_s = pd.DataFrame(pops_s, columns=['origin','destination','s'])"
   ]
  },
  {
   "cell_type": "code",
   "execution_count": null,
   "id": "1efad5f8",
   "metadata": {},
   "outputs": [],
   "source": [
    "new_df = pd.merge(\n",
    "    left=distance_df, \n",
    "    right=pop_s,\n",
    "    how='left',\n",
    "    left_on=['origin', 'destination'],\n",
    "    right_on=['origin', 'destination']\n",
    ")"
   ]
  },
  {
   "cell_type": "code",
   "execution_count": null,
   "id": "e137afe0",
   "metadata": {},
   "outputs": [],
   "source": [
    "\n",
    "# Radiation Model Function\n",
    "def radiation_model(pop_i, pop_j, pop_s):\n",
    "    return pop_i * (pop_i * pop_j / ((pop_i + pop_s) * (pop_i + pop_j + pop_s)))\n",
    "        \n",
    "\n",
    "new_df['Radiation model'] = new_df[['pop orig','pop dest','s']].apply(lambda x: radiation_model(x[0],x[1],x[2]),axis=1)\n"
   ]
  },
  {
   "cell_type": "code",
   "execution_count": null,
   "id": "cdc01785",
   "metadata": {},
   "outputs": [],
   "source": [
    "new_df = new_df.groupby(['origin','destination'])['Radiation model'].sum().to_frame()\n",
    "new_df = new_df.reindex(level=0, labels=places).reindex(level=1, labels=places).unstack()\n",
    "new_matrix = new_df.to_numpy()\n"
   ]
  },
  {
   "cell_type": "code",
   "execution_count": null,
   "id": "b588c352-0375-4b19-816c-ff9a65a119ff",
   "metadata": {},
   "outputs": [],
   "source": [
    "new_matrix_norm = new_matrix/new_matrix.sum(axis=1,keepdims=True)\n",
    "OD_matrix_norm = OD_matrix/OD_matrix.sum(axis=1,keepdims=True)"
   ]
  },
  {
   "cell_type": "code",
   "execution_count": null,
   "id": "8ae8ea20",
   "metadata": {},
   "outputs": [],
   "source": [
    "plt.loglog(OD_matrix.flatten(),new_matrix.flatten(),'o', lw=0, markersize=1);\n",
    "plt.loglog([100,1000000],[100,1000000], lw=2, ls='--', color='grey')\n",
    "plt.xlabel('observed trips')\n",
    "plt.ylabel('modelled trips')\n",
    "plt.gca().set_aspect('equal')"
   ]
  },
  {
   "cell_type": "code",
   "execution_count": null,
   "id": "e2d11ace-cf2b-4cb4-8f63-f62b7a058a19",
   "metadata": {},
   "outputs": [],
   "source": [
    "plt.loglog(OD_matrix_norm.flatten(),new_matrix_norm.flatten(),'o', lw=0, markersize=1);\n",
    "plt.loglog([0.00001,1],[0.00001,1], lw=2, ls='--', color='grey')\n",
    "plt.xlabel('observed trips')\n",
    "plt.ylabel('modelled trips')\n",
    "plt.gca().set_aspect('equal')"
   ]
  },
  {
   "cell_type": "code",
   "execution_count": null,
   "id": "9d6e12ed-b6e6-4479-9321-694b06b14d6b",
   "metadata": {},
   "outputs": [],
   "source": []
  }
 ],
 "metadata": {
  "kernelspec": {
   "display_name": "Python 3 (ipykernel)",
   "language": "python",
   "name": "python3"
  },
  "language_info": {
   "codemirror_mode": {
    "name": "ipython",
    "version": 3
   },
   "file_extension": ".py",
   "mimetype": "text/x-python",
   "name": "python",
   "nbconvert_exporter": "python",
   "pygments_lexer": "ipython3",
   "version": "3.12.11"
  }
 },
 "nbformat": 4,
 "nbformat_minor": 5
}
